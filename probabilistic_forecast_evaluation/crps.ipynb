{
 "metadata": {
  "language_info": {
   "codemirror_mode": {
    "name": "ipython",
    "version": 3
   },
   "file_extension": ".py",
   "mimetype": "text/x-python",
   "name": "python",
   "nbconvert_exporter": "python",
   "pygments_lexer": "ipython3",
   "version": "3.8.5"
  },
  "orig_nbformat": 2,
  "kernelspec": {
   "name": "python385jvsc74a57bd004089dccd669f5475382045dd9eff7870585234f8cdbd51ae6db76ccd1cd85e5",
   "display_name": "Python 3.8.5 64-bit ('base': conda)"
  }
 },
 "nbformat": 4,
 "nbformat_minor": 2,
 "cells": [
  {
   "cell_type": "code",
   "execution_count": 1,
   "source": [
    "!pip install properscoring"
   ],
   "outputs": [
    {
     "output_type": "stream",
     "name": "stdout",
     "text": [
      "Requirement already satisfied: properscoring in c:\\users\\jan\\miniconda3\\lib\\site-packages (0.1)\n",
      "Requirement already satisfied: numpy in c:\\users\\jan\\miniconda3\\lib\\site-packages (from properscoring) (1.21.0)\n",
      "Requirement already satisfied: scipy in c:\\users\\jan\\miniconda3\\lib\\site-packages (from properscoring) (1.6.1)\n"
     ]
    }
   ],
   "metadata": {}
  },
  {
   "cell_type": "code",
   "execution_count": 2,
   "source": [
    "from ipywidgets import interact\r\n",
    "import matplotlib.pyplot as plt\r\n",
    "import numpy as np"
   ],
   "outputs": [],
   "metadata": {}
  },
  {
   "cell_type": "code",
   "execution_count": 4,
   "source": [
    "import properscoring\r\n",
    "from scipy.stats import norm\r\n",
    "\r\n",
    "many_samples = np.random.normal(size=100)\r\n",
    "\r\n",
    "@interact\r\n",
    "def crps_show(x=(-10.0,10.0), mu=(-10.0,10.0), sig=(0.1,10.0), n_member=(3,20)):\r\n",
    "  \r\n",
    "  xx = np.linspace(-20.0, 20.0, 200)\r\n",
    "  y = norm.pdf(loc=mu,scale=sig,x=xx)\r\n",
    "\r\n",
    "  samples = mu + sig*many_samples[:n_member]\r\n",
    "\r\n",
    "  crps_g = properscoring.crps_gaussian(x=x, mu=mu, sig=sig)\r\n",
    "  crps_e = properscoring.crps_ensemble(observations=x, forecasts=samples)\r\n",
    "  mae = np.abs(mu-x)\r\n",
    "\r\n",
    "  textstr = '\\n'.join((\r\n",
    "    r'$CRPS_g$ %.2f' % (crps_g, ),\r\n",
    "    r'$CRPS_e$ %.2f' % (crps_e, ),\r\n",
    "    r'$MAE$    %.2f' % (mae, )\r\n",
    "  ))\r\n",
    "\r\n",
    "  fig, ax = plt.subplots(figsize=(8,4))\r\n",
    "  props = dict(boxstyle='round', facecolor='beige')\r\n",
    "  ax.text(1.02, 0.97, textstr, transform=ax.transAxes, fontsize=14,\r\n",
    "        verticalalignment='top', bbox=props)\r\n",
    "\r\n",
    "  ax.plot(xx,y, label=\"Model\")\r\n",
    "  ax.scatter( samples, np.zeros(len(samples)),label='Ensemble')\r\n",
    "  ax.axvline(x,linestyle='dashed',label=\"Observation\")\r\n",
    "  ax.legend(loc='upper left')"
   ],
   "outputs": [
    {
     "output_type": "display_data",
     "data": {
      "text/plain": [
       "interactive(children=(FloatSlider(value=0.0, description='x', max=10.0, min=-10.0), FloatSlider(value=0.0, des…"
      ],
      "application/vnd.jupyter.widget-view+json": {
       "version_major": 2,
       "version_minor": 0,
       "model_id": "0f29e7f6169849caab21dd65d85fee34"
      }
     },
     "metadata": {}
    }
   ],
   "metadata": {}
  },
  {
   "cell_type": "code",
   "execution_count": null,
   "source": [],
   "outputs": [],
   "metadata": {}
  }
 ]
}