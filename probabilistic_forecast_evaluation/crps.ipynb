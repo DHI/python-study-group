{
 "metadata": {
  "language_info": {
   "codemirror_mode": {
    "name": "ipython",
    "version": 3
   },
   "file_extension": ".py",
   "mimetype": "text/x-python",
   "name": "python",
   "nbconvert_exporter": "python",
   "pygments_lexer": "ipython3",
   "version": "3.8.5"
  },
  "orig_nbformat": 2,
  "kernelspec": {
   "name": "python385jvsc74a57bd004089dccd669f5475382045dd9eff7870585234f8cdbd51ae6db76ccd1cd85e5",
   "display_name": "Python 3.8.5 64-bit ('base': conda)"
  }
 },
 "nbformat": 4,
 "nbformat_minor": 2,
 "cells": [
  {
   "cell_type": "code",
   "execution_count": 1,
   "metadata": {},
   "outputs": [
    {
     "output_type": "stream",
     "name": "stdout",
     "text": [
      "Requirement already satisfied: properscoring in c:\\users\\jan\\miniconda3\\lib\\site-packages (0.1)\nRequirement already satisfied: scipy in c:\\users\\jan\\miniconda3\\lib\\site-packages (from properscoring) (1.6.1)\nRequirement already satisfied: numpy in c:\\users\\jan\\miniconda3\\lib\\site-packages (from properscoring) (1.19.2)\n"
     ]
    }
   ],
   "source": [
    "!pip install properscoring"
   ]
  },
  {
   "cell_type": "code",
   "execution_count": 2,
   "metadata": {},
   "outputs": [],
   "source": [
    "from ipywidgets import interact\n",
    "import matplotlib.pyplot as plt\n",
    "import numpy as np"
   ]
  },
  {
   "cell_type": "code",
   "execution_count": 4,
   "metadata": {},
   "outputs": [
    {
     "output_type": "display_data",
     "data": {
      "text/plain": "interactive(children=(FloatSlider(value=0.0, description='x', max=10.0, min=-10.0), FloatSlider(value=0.0, des…",
      "application/vnd.jupyter.widget-view+json": {
       "version_major": 2,
       "version_minor": 0,
       "model_id": "9472f236a13a4084b10be4528f53bd1e"
      }
     },
     "metadata": {}
    }
   ],
   "source": [
    "import properscoring\n",
    "from scipy.stats import norm\n",
    "\n",
    "@interact\n",
    "def crps_show(x=(-10.0,10.0), mu=(-10.0,10.0), sig=(0.1,10.0), n_member=(3,20)):\n",
    "  \n",
    "  xx = np.linspace(-20.0, 20.0, 200)\n",
    "  y = norm.pdf(loc=mu,scale=sig,x=xx)\n",
    "\n",
    "  samples = np.random.normal(loc=mu, scale=sig, size=n_member)\n",
    "\n",
    "  crps_g = properscoring.crps_gaussian(x=x, mu=mu, sig=sig)\n",
    "  crps_e = properscoring.crps_ensemble(observations=x, forecasts=samples)\n",
    "  mae = np.abs(mu-x)\n",
    "\n",
    "  textstr = '\\n'.join((\n",
    "    r'$CRPS_g$ %.2f' % (crps_g, ),\n",
    "    r'$CRPS_e$ %.2f' % (crps_e, ),\n",
    "    r'$MAE$    %.2f' % (mae, )\n",
    "  ))\n",
    "\n",
    "  fig, ax = plt.subplots(figsize=(8,4))\n",
    "  props = dict(boxstyle='round', facecolor='beige')\n",
    "  ax.text(1.02, 0.97, textstr, transform=ax.transAxes, fontsize=14,\n",
    "        verticalalignment='top', bbox=props)\n",
    "\n",
    "  ax.plot(xx,y, label=\"Model\")\n",
    "  ax.scatter( samples, np.zeros(len(samples)),label='Ensemble')\n",
    "  ax.axvline(x,linestyle='dashed',label=\"Observation\")\n",
    "  ax.legend(loc='upper left')"
   ]
  }
 ]
}