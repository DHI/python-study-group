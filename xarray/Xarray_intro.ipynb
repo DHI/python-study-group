{
  "nbformat": 4,
  "nbformat_minor": 0,
  "metadata": {
    "colab": {
      "name": "Xarray intro.ipynb",
      "provenance": [],
      "collapsed_sections": []
    },
    "kernelspec": {
      "name": "python3",
      "display_name": "Python 3"
    }
  },
  "cells": [
    {
      "cell_type": "markdown",
      "metadata": {
        "id": "8VDEDpcBBBc6"
      },
      "source": [
        "# Multi-dimensional data access with Xarray\r\n",
        "Henrik Andersson, 2021-01-15"
      ]
    },
    {
      "cell_type": "code",
      "metadata": {
        "id": "vipnn6C2Ao4R"
      },
      "source": [
        "pip install netcdf4"
      ],
      "execution_count": null,
      "outputs": []
    },
    {
      "cell_type": "markdown",
      "metadata": {
        "id": "7AulLYjMBPqW"
      },
      "source": [
        "NCEP reanalysis data is used as an example of multi-dimensional data.\r\n",
        "\r\n",
        "For this example we will use 2m temperature, but the full list of variables is [here](https://psl.noaa.gov/data/gridded/data.ncep.reanalysis.surface.html).\r\n",
        "\r\n",
        "First step is to download the data (later we will try an alternative where data subsets are downloaded on demand)."
      ]
    },
    {
      "cell_type": "code",
      "metadata": {
        "id": "UCEa_TtwAhWx"
      },
      "source": [
        "!curl -O ftp://ftp2.psl.noaa.gov/Datasets/ncep.reanalysis.dailyavgs/surface_gauss/air.2m.gauss.2020.nc "
      ],
      "execution_count": null,
      "outputs": []
    },
    {
      "cell_type": "code",
      "metadata": {
        "id": "VbRgxoTw_ssZ"
      },
      "source": [
        "!ls"
      ],
      "execution_count": null,
      "outputs": []
    },
    {
      "cell_type": "code",
      "metadata": {
        "id": "yYK4B3dX_jw5"
      },
      "source": [
        "import xarray as xr"
      ],
      "execution_count": null,
      "outputs": []
    },
    {
      "cell_type": "code",
      "metadata": {
        "id": "dXpg5Vr-_mCb"
      },
      "source": [
        "ds = xr.open_dataset(\"air.2m.gauss.2020.nc\")\r\n",
        "ds"
      ],
      "execution_count": null,
      "outputs": []
    },
    {
      "cell_type": "markdown",
      "metadata": {
        "id": "iBub_RQ9CLOZ"
      },
      "source": [
        "Printing the `ds` object reveals lots of useful information.\r\n",
        "* Dimensions\r\n",
        "* Coordinates\r\n",
        "* Variables\r\n",
        "* Metadata"
      ]
    },
    {
      "cell_type": "markdown",
      "metadata": {
        "id": "YODnSWDADkmS"
      },
      "source": [
        "One of the strengths of `xarray` is the simple syntax to select variables and timesteps.\r\n",
        "\r\n",
        "To select the air temperature variables on a specific time and plot it with useful axes and legend takes only one line of code."
      ]
    },
    {
      "cell_type": "code",
      "metadata": {
        "id": "5LtveYqP_rPC"
      },
      "source": [
        "ds.air.sel(time=\"2020-04-01\").plot()"
      ],
      "execution_count": null,
      "outputs": []
    },
    {
      "cell_type": "markdown",
      "metadata": {
        "id": "BUOTRveZJ9ut"
      },
      "source": [
        "# DHI data\r\n",
        "\r\n",
        "Ok, now we now that xarray can be used to read public data.\r\n",
        "\r\n",
        "But it can also be useful for our own data, as an alternative to storing data in dfs files.\r\n",
        "\r\n",
        "Some benefits of the NetCDF format:\r\n",
        " * Standard format, for distribution to customer un-familiar with dfs\r\n",
        " * Support for multiple time axes\r\n",
        " * Support for multiple spatial including non-equidistant axes\r\n",
        " * Keep all relevant data in a single file\r\n",
        " * Support for arbitrary metadata\r\n",
        "\r\n",
        " \r\n",
        " Let's take a look at some output from the Wave Hunter project"
      ]
    },
    {
      "cell_type": "code",
      "metadata": {
        "id": "g7M3c7AhJyi8"
      },
      "source": [
        "! curl -O https://wavehunter.z6.web.core.windows.net/wave_hunter_2020021000.nc"
      ],
      "execution_count": null,
      "outputs": []
    },
    {
      "cell_type": "code",
      "metadata": {
        "id": "CcDFpg49_8hK"
      },
      "source": [
        "ds = xr.open_dataset(\"wave_hunter_2020021000.nc\")\r\n",
        "ds"
      ],
      "execution_count": null,
      "outputs": []
    },
    {
      "cell_type": "markdown",
      "metadata": {
        "id": "O8ciwuq7MoAF"
      },
      "source": [
        "The main output from the Wave Hunter project, was a map of probability for the coming two days. To be able to clearly label the temporal axis as a date and not a datetime I think is very helpful. Thus probability uses the `date` dimension.\r\n",
        "\r\n",
        "The probability for the first date in this forecast:"
      ]
    },
    {
      "cell_type": "code",
      "metadata": {
        "id": "sJKhai-iJnZe"
      },
      "source": [
        "ds.probability.isel(date=0).plot()"
      ],
      "execution_count": null,
      "outputs": []
    },
    {
      "cell_type": "markdown",
      "metadata": {
        "id": "arzUOZkgNwTN"
      },
      "source": [
        "Better to use a static color scale from 0-1."
      ]
    },
    {
      "cell_type": "code",
      "metadata": {
        "id": "rRcFaL2wLgri"
      },
      "source": [
        "# Change the scale to [0,1]\r\n",
        "ds.probability.isel(date=0).plot(vmin=0.0,vmax=1.0)"
      ],
      "execution_count": null,
      "outputs": []
    },
    {
      "cell_type": "markdown",
      "metadata": {
        "id": "OYRghHwXMksr"
      },
      "source": [
        "The underlying data used in the calculation are also useful to store for retrospective inspection. These are stored with `time` as the temporal dimension."
      ]
    },
    {
      "cell_type": "code",
      "metadata": {
        "id": "tE1vF90gLtbZ"
      },
      "source": [
        "ds[\"Wind speed\"].isel(time=0).plot()"
      ],
      "execution_count": null,
      "outputs": []
    },
    {
      "cell_type": "markdown",
      "metadata": {
        "id": "2-fAztybN7Wy"
      },
      "source": [
        "It is also possible to access the same data using datetime as a string."
      ]
    },
    {
      "cell_type": "code",
      "metadata": {
        "id": "-zUE0-q0N6OK"
      },
      "source": [
        "ds[\"Wind speed\"].sel(time=\"2020-02-10 00:00\").plot()"
      ],
      "execution_count": null,
      "outputs": []
    },
    {
      "cell_type": "markdown",
      "metadata": {
        "id": "gihRtyl_OJ9F"
      },
      "source": [
        "In order to get a timeseries, we can slice in the two spatial dimensions"
      ]
    },
    {
      "cell_type": "code",
      "metadata": {
        "id": "sO72QCK7MWLH"
      },
      "source": [
        "ds[\"Wind speed\"].sel(latitude=59.0,longitude=0.0).plot()"
      ],
      "execution_count": null,
      "outputs": []
    },
    {
      "cell_type": "markdown",
      "metadata": {
        "id": "XqzHyW9KPOZw"
      },
      "source": [
        "Calculations can be made similar to how you use NumPy. The result you get is a data-array."
      ]
    },
    {
      "cell_type": "code",
      "metadata": {
        "id": "z_Vbu0L3PHWt"
      },
      "source": [
        "ds.probability.isel(date=0).max()"
      ],
      "execution_count": null,
      "outputs": []
    },
    {
      "cell_type": "markdown",
      "metadata": {
        "id": "Abfc1L_qPfBy"
      },
      "source": [
        "To get the result in a NumPy array you can use the .values property."
      ]
    },
    {
      "cell_type": "code",
      "metadata": {
        "id": "Ckl8iDVZPXMA"
      },
      "source": [
        "maxp = ds.probability.isel(date=0).max().values\r\n",
        "\r\n",
        "type(maxp)"
      ],
      "execution_count": null,
      "outputs": []
    },
    {
      "cell_type": "code",
      "metadata": {
        "id": "rtzPKMJvPuH5"
      },
      "source": [
        "maxp"
      ],
      "execution_count": null,
      "outputs": []
    },
    {
      "cell_type": "markdown",
      "metadata": {
        "id": "Rl_SY2rtOQ6u"
      },
      "source": [
        "I hope this has gotten you excited to use the xarray package.\r\n",
        "\r\n",
        "The [xarray documentation](http://xarray.pydata.org/en/stable/index.html) is excellent and contains a lot of examples."
      ]
    }
  ]
}