{
  "nbformat": 4,
  "nbformat_minor": 0,
  "metadata": {
    "colab": {
      "name": "Optuna fashion CNN.ipynb",
      "provenance": []
    },
    "kernelspec": {
      "name": "python3",
      "display_name": "Python 3"
    },
    "language_info": {
      "name": "python"
    },
    "accelerator": "GPU"
  },
  "cells": [
    {
      "cell_type": "code",
      "metadata": {
        "colab": {
          "base_uri": "https://localhost:8080/"
        },
        "id": "lQ_hAxl3qs89",
        "outputId": "5da67de8-d01f-419e-f1e3-ab9f5c1fb777"
      },
      "source": [
        "import tensorflow.keras\n",
        "from tensorflow.keras.models import Sequential\n",
        "from tensorflow.keras.layers import Dense\n",
        "from tensorflow.keras.layers import Flatten\n",
        "from tensorflow.keras.layers import Conv2D\n",
        "from tensorflow.keras.layers import  MaxPool2D \n",
        "from tensorflow.keras.layers import  Dropout \n",
        "from tensorflow.keras.utils import to_categorical\n",
        "from tensorflow.keras.callbacks import EarlyStopping\n",
        "from tensorflow.keras.optimizers import Adam\n",
        "\n",
        "import numpy as np\n",
        "import sklearn\n",
        "from sklearn.model_selection import train_test_split\n",
        "\n",
        "import matplotlib\n",
        "import matplotlib.pyplot as plt\n",
        "\n",
        "(train_images0, train_labels0), (test_images_raw, test_labels) = tensorflow.keras.datasets.fashion_mnist.load_data()\n",
        "\n",
        "# Split the training set into a training and a validation set (20% is validation)\n",
        "train_images_raw, val_images_raw, train_labels, val_labels = train_test_split(train_images0, train_labels0, test_size=0.20)\n",
        "\n",
        "# Normalize the images.\n",
        "train_images = (train_images_raw / 255) - 0.5\n",
        "test_images = (test_images_raw / 255) - 0.5\n",
        "val_images = (val_images_raw / 255) - 0.5\n",
        "\n",
        "train_images_3d = np.expand_dims(train_images,3)\n",
        "val_images_3d = np.expand_dims(val_images,3)\n",
        "test_images_3d = np.expand_dims(test_images,3)"
      ],
      "execution_count": null,
      "outputs": [
        {
          "output_type": "stream",
          "text": [
            "Downloading data from https://storage.googleapis.com/tensorflow/tf-keras-datasets/train-labels-idx1-ubyte.gz\n",
            "32768/29515 [=================================] - 0s 0us/step\n",
            "Downloading data from https://storage.googleapis.com/tensorflow/tf-keras-datasets/train-images-idx3-ubyte.gz\n",
            "26427392/26421880 [==============================] - 0s 0us/step\n",
            "Downloading data from https://storage.googleapis.com/tensorflow/tf-keras-datasets/t10k-labels-idx1-ubyte.gz\n",
            "8192/5148 [===============================================] - 0s 0us/step\n",
            "Downloading data from https://storage.googleapis.com/tensorflow/tf-keras-datasets/t10k-images-idx3-ubyte.gz\n",
            "4423680/4422102 [==============================] - 0s 0us/step\n"
          ],
          "name": "stdout"
        }
      ]
    },
    {
      "cell_type": "code",
      "metadata": {
        "colab": {
          "base_uri": "https://localhost:8080/"
        },
        "id": "8rqwPGxoq0XA",
        "outputId": "0d5d9479-4812-4a70-dd2e-81dd508238bf"
      },
      "source": [
        "!pip install optuna"
      ],
      "execution_count": null,
      "outputs": [
        {
          "output_type": "stream",
          "text": [
            "Collecting optuna\n",
            "\u001b[?25l  Downloading https://files.pythonhosted.org/packages/2b/21/d13081805e1e1afc71f5bb743ece324c8bd576237c51b899ecb38a717502/optuna-2.7.0-py3-none-any.whl (293kB)\n",
            "\u001b[K     |████████████████████████████████| 296kB 7.8MB/s \n",
            "\u001b[?25hCollecting colorlog\n",
            "  Downloading https://files.pythonhosted.org/packages/32/e6/e9ddc6fa1104fda718338b341e4b3dc31cd8039ab29e52fc73b508515361/colorlog-5.0.1-py2.py3-none-any.whl\n",
            "Collecting cliff\n",
            "\u001b[?25l  Downloading https://files.pythonhosted.org/packages/a2/d6/7d9acb68a77acd140be7fececb7f2701b2a29d2da9c54184cb8f93509590/cliff-3.7.0-py3-none-any.whl (80kB)\n",
            "\u001b[K     |████████████████████████████████| 81kB 8.3MB/s \n",
            "\u001b[?25hCollecting alembic\n",
            "\u001b[?25l  Downloading https://files.pythonhosted.org/packages/ab/ff/375a0a81965a7ad4e23d1786de218e9bae050c4d3927cc9b2783aa045401/alembic-1.6.2.tar.gz (1.2MB)\n",
            "\u001b[K     |████████████████████████████████| 1.2MB 11.8MB/s \n",
            "\u001b[?25hCollecting cmaes>=0.8.2\n",
            "  Downloading https://files.pythonhosted.org/packages/01/1f/43b01223a0366171f474320c6e966c39a11587287f098a5f09809b45e05f/cmaes-0.8.2-py3-none-any.whl\n",
            "Requirement already satisfied: scipy!=1.4.0 in /usr/local/lib/python3.7/dist-packages (from optuna) (1.4.1)\n",
            "Requirement already satisfied: sqlalchemy>=1.1.0 in /usr/local/lib/python3.7/dist-packages (from optuna) (1.4.7)\n",
            "Requirement already satisfied: tqdm in /usr/local/lib/python3.7/dist-packages (from optuna) (4.41.1)\n",
            "Requirement already satisfied: numpy in /usr/local/lib/python3.7/dist-packages (from optuna) (1.19.5)\n",
            "Requirement already satisfied: packaging>=20.0 in /usr/local/lib/python3.7/dist-packages (from optuna) (20.9)\n",
            "Collecting pbr!=2.1.0,>=2.0.0\n",
            "\u001b[?25l  Downloading https://files.pythonhosted.org/packages/18/e0/1d4702dd81121d04a477c272d47ee5b6bc970d1a0990b11befa275c55cf2/pbr-5.6.0-py2.py3-none-any.whl (111kB)\n",
            "\u001b[K     |████████████████████████████████| 112kB 34.3MB/s \n",
            "\u001b[?25hRequirement already satisfied: PrettyTable>=0.7.2 in /usr/local/lib/python3.7/dist-packages (from cliff->optuna) (2.1.0)\n",
            "Collecting stevedore>=2.0.1\n",
            "\u001b[?25l  Downloading https://files.pythonhosted.org/packages/d4/49/b602307aeac3df3384ff1fcd05da9c0376c622a6c48bb5325f28ab165b57/stevedore-3.3.0-py3-none-any.whl (49kB)\n",
            "\u001b[K     |████████████████████████████████| 51kB 8.6MB/s \n",
            "\u001b[?25hCollecting cmd2>=1.0.0\n",
            "\u001b[?25l  Downloading https://files.pythonhosted.org/packages/15/8b/15061b32332bb35ea2a2f6263d0f616779d576e82739ec8e7fcf3c94abf5/cmd2-1.5.0-py3-none-any.whl (133kB)\n",
            "\u001b[K     |████████████████████████████████| 143kB 27.2MB/s \n",
            "\u001b[?25hRequirement already satisfied: PyYAML>=3.12 in /usr/local/lib/python3.7/dist-packages (from cliff->optuna) (3.13)\n",
            "Requirement already satisfied: pyparsing>=2.1.0 in /usr/local/lib/python3.7/dist-packages (from cliff->optuna) (2.4.7)\n",
            "Collecting Mako\n",
            "\u001b[?25l  Downloading https://files.pythonhosted.org/packages/f3/54/dbc07fbb20865d3b78fdb7cf7fa713e2cba4f87f71100074ef2dc9f9d1f7/Mako-1.1.4-py2.py3-none-any.whl (75kB)\n",
            "\u001b[K     |████████████████████████████████| 81kB 10.8MB/s \n",
            "\u001b[?25hCollecting python-editor>=0.3\n",
            "  Downloading https://files.pythonhosted.org/packages/c6/d3/201fc3abe391bbae6606e6f1d598c15d367033332bd54352b12f35513717/python_editor-1.0.4-py3-none-any.whl\n",
            "Requirement already satisfied: python-dateutil in /usr/local/lib/python3.7/dist-packages (from alembic->optuna) (2.8.1)\n",
            "Requirement already satisfied: importlib-metadata; python_version < \"3.8\" in /usr/local/lib/python3.7/dist-packages (from sqlalchemy>=1.1.0->optuna) (3.10.1)\n",
            "Requirement already satisfied: greenlet!=0.4.17; python_version >= \"3\" in /usr/local/lib/python3.7/dist-packages (from sqlalchemy>=1.1.0->optuna) (1.0.0)\n",
            "Requirement already satisfied: wcwidth in /usr/local/lib/python3.7/dist-packages (from PrettyTable>=0.7.2->cliff->optuna) (0.2.5)\n",
            "Collecting colorama>=0.3.7\n",
            "  Downloading https://files.pythonhosted.org/packages/44/98/5b86278fbbf250d239ae0ecb724f8572af1c91f4a11edf4d36a206189440/colorama-0.4.4-py2.py3-none-any.whl\n",
            "Requirement already satisfied: attrs>=16.3.0 in /usr/local/lib/python3.7/dist-packages (from cmd2>=1.0.0->cliff->optuna) (20.3.0)\n",
            "Collecting pyperclip>=1.6\n",
            "  Downloading https://files.pythonhosted.org/packages/a7/2c/4c64579f847bd5d539803c8b909e54ba087a79d01bb3aba433a95879a6c5/pyperclip-1.8.2.tar.gz\n",
            "Requirement already satisfied: MarkupSafe>=0.9.2 in /usr/local/lib/python3.7/dist-packages (from Mako->alembic->optuna) (1.1.1)\n",
            "Requirement already satisfied: six>=1.5 in /usr/local/lib/python3.7/dist-packages (from python-dateutil->alembic->optuna) (1.15.0)\n",
            "Requirement already satisfied: typing-extensions>=3.6.4; python_version < \"3.8\" in /usr/local/lib/python3.7/dist-packages (from importlib-metadata; python_version < \"3.8\"->sqlalchemy>=1.1.0->optuna) (3.7.4.3)\n",
            "Requirement already satisfied: zipp>=0.5 in /usr/local/lib/python3.7/dist-packages (from importlib-metadata; python_version < \"3.8\"->sqlalchemy>=1.1.0->optuna) (3.4.1)\n",
            "Building wheels for collected packages: alembic, pyperclip\n",
            "  Building wheel for alembic (setup.py) ... \u001b[?25l\u001b[?25hdone\n",
            "  Created wheel for alembic: filename=alembic-1.6.2-py2.py3-none-any.whl size=164219 sha256=dcc9bc2ea1d1afb3d5f747b2482fe3ec3ff8b004cba0a57670df1880c74e89fd\n",
            "  Stored in directory: /root/.cache/pip/wheels/a5/63/44/db29401e49ef5331c163b591f12a465c40af864bfa888dabd2\n",
            "  Building wheel for pyperclip (setup.py) ... \u001b[?25l\u001b[?25hdone\n",
            "  Created wheel for pyperclip: filename=pyperclip-1.8.2-cp37-none-any.whl size=11107 sha256=22dc8231f4fc4b80620ca77a2ef083e077a0b0dd226888efa5cd9c0365b572ab\n",
            "  Stored in directory: /root/.cache/pip/wheels/25/af/b8/3407109267803f4015e1ee2ff23be0c8c19ce4008665931ee1\n",
            "Successfully built alembic pyperclip\n",
            "Installing collected packages: colorlog, pbr, stevedore, colorama, pyperclip, cmd2, cliff, Mako, python-editor, alembic, cmaes, optuna\n",
            "Successfully installed Mako-1.1.4 alembic-1.6.2 cliff-3.7.0 cmaes-0.8.2 cmd2-1.5.0 colorama-0.4.4 colorlog-5.0.1 optuna-2.7.0 pbr-5.6.0 pyperclip-1.8.2 python-editor-1.0.4 stevedore-3.3.0\n"
          ],
          "name": "stdout"
        }
      ]
    },
    {
      "cell_type": "code",
      "metadata": {
        "id": "W-yH2hdUq4UE"
      },
      "source": [
        "import optuna"
      ],
      "execution_count": null,
      "outputs": []
    },
    {
      "cell_type": "code",
      "metadata": {
        "id": "EhPxAoLqq7Qz"
      },
      "source": [
        "def objective(trial):\n",
        "  model = Sequential()\n",
        "\n",
        "  model.add(Conv2D(filters=trial.suggest_categorical('conv_1_filter', [16,32,64,128,256]),\n",
        "                    kernel_size=trial.suggest_categorical('conv_1_kernel', [3,5,7]),\n",
        "                    input_shape=(28,28,1), data_format=\"channels_last\", activation='relu'))\n",
        "  model.add(MaxPool2D(2,2))\n",
        "  model.add(Flatten())\n",
        "  for i in range(trial.suggest_int(\"dense_nlayers\", 1, 5)):\n",
        "                 model.add(Dense(trial.suggest_int(f'dense_{i}_units', 16, 256, log=True),\n",
        "                           trial.suggest_categorical('dense_activation', ['relu','tanh','elu'])))\n",
        "                 model.add(Dropout(rate=trial.suggest_uniform(f\"dropout_{i}_rate\",0.1,0.5)))\n",
        "                    \n",
        "  model.add(Dense(10, activation='softmax'))\n",
        "  \n",
        "\n",
        "  model.compile(\n",
        "    optimizer=Adam(trial.suggest_float('learning_rate', 1e-4, 0.1, log=True)),\n",
        "    loss='sparse_categorical_crossentropy',\n",
        "    metrics=['accuracy']\n",
        "  )\n",
        "\n",
        "  model.fit(train_images_3d, train_labels,\n",
        "        epochs=10,\n",
        "        validation_data=(val_images_3d, val_labels),\n",
        "        batch_size=128,\n",
        "        callbacks=[EarlyStopping('val_loss', patience=2)],\n",
        "        verbose=False)\n",
        "  val_acc = model.evaluate(val_images_3d, val_labels, verbose=0)\n",
        "\n",
        "  return val_acc[1]"
      ],
      "execution_count": null,
      "outputs": []
    },
    {
      "cell_type": "code",
      "metadata": {
        "colab": {
          "base_uri": "https://localhost:8080/"
        },
        "id": "73Lp4qddq-Fj",
        "outputId": "09a6d654-c999-4e57-9262-243565a9490e"
      },
      "source": [
        "study = optuna.create_study(study_name='fashion_mnist_cnn', direction='maximize')\n",
        "study.optimize(objective, n_trials=20)"
      ],
      "execution_count": null,
      "outputs": [
        {
          "output_type": "stream",
          "text": [
            "\u001b[32m[I 2021-05-11 06:53:29,870]\u001b[0m A new study created in memory with name: fashion_mnist_cnn\u001b[0m\n",
            "\u001b[32m[I 2021-05-11 06:54:10,389]\u001b[0m Trial 0 finished with value: 0.793833315372467 and parameters: {'conv_1_filter': 64, 'conv_1_kernel': 5, 'dense_nlayers': 5, 'dense_0_units': 71, 'dense_activation': 'tanh', 'dropout_0_rate': 0.11456293047583649, 'dense_1_units': 218, 'dropout_1_rate': 0.17991105757766915, 'dense_2_units': 29, 'dropout_2_rate': 0.19314748234853313, 'dense_3_units': 133, 'dropout_3_rate': 0.18677331862336227, 'dense_4_units': 136, 'dropout_4_rate': 0.2983386761386504, 'learning_rate': 0.007539959481430592}. Best is trial 0 with value: 0.793833315372467.\u001b[0m\n",
            "\u001b[32m[I 2021-05-11 06:54:24,759]\u001b[0m Trial 1 finished with value: 0.8845000267028809 and parameters: {'conv_1_filter': 64, 'conv_1_kernel': 5, 'dense_nlayers': 2, 'dense_0_units': 25, 'dense_activation': 'tanh', 'dropout_0_rate': 0.16442151623651174, 'dense_1_units': 31, 'dropout_1_rate': 0.3875295949676505, 'learning_rate': 0.00011480658661518222}. Best is trial 1 with value: 0.8845000267028809.\u001b[0m\n",
            "\u001b[32m[I 2021-05-11 06:54:32,563]\u001b[0m Trial 2 finished with value: 0.909500002861023 and parameters: {'conv_1_filter': 32, 'conv_1_kernel': 5, 'dense_nlayers': 2, 'dense_0_units': 53, 'dense_activation': 'tanh', 'dropout_0_rate': 0.12923404626931553, 'dense_1_units': 189, 'dropout_1_rate': 0.21339236142619333, 'learning_rate': 0.00270529165822813}. Best is trial 2 with value: 0.909500002861023.\u001b[0m\n",
            "\u001b[32m[I 2021-05-11 06:54:43,202]\u001b[0m Trial 3 finished with value: 0.9075833559036255 and parameters: {'conv_1_filter': 32, 'conv_1_kernel': 5, 'dense_nlayers': 3, 'dense_0_units': 46, 'dense_activation': 'elu', 'dropout_0_rate': 0.4570430420854851, 'dense_1_units': 86, 'dropout_1_rate': 0.3005039613325501, 'dense_2_units': 55, 'dropout_2_rate': 0.4058800924522997, 'learning_rate': 0.0005549802747547173}. Best is trial 2 with value: 0.909500002861023.\u001b[0m\n",
            "\u001b[32m[I 2021-05-11 06:54:47,391]\u001b[0m Trial 4 finished with value: 0.7883333563804626 and parameters: {'conv_1_filter': 16, 'conv_1_kernel': 3, 'dense_nlayers': 1, 'dense_0_units': 76, 'dense_activation': 'tanh', 'dropout_0_rate': 0.49443330644812866, 'learning_rate': 0.04921481130986472}. Best is trial 2 with value: 0.909500002861023.\u001b[0m\n",
            "\u001b[32m[I 2021-05-11 06:55:25,653]\u001b[0m Trial 5 finished with value: 0.8619999885559082 and parameters: {'conv_1_filter': 256, 'conv_1_kernel': 5, 'dense_nlayers': 1, 'dense_0_units': 233, 'dense_activation': 'tanh', 'dropout_0_rate': 0.1472615306997528, 'learning_rate': 0.005584386131363661}. Best is trial 2 with value: 0.909500002861023.\u001b[0m\n",
            "\u001b[32m[I 2021-05-11 06:55:58,292]\u001b[0m Trial 6 finished with value: 0.9086666703224182 and parameters: {'conv_1_filter': 256, 'conv_1_kernel': 5, 'dense_nlayers': 2, 'dense_0_units': 70, 'dense_activation': 'relu', 'dropout_0_rate': 0.41375529384300913, 'dense_1_units': 78, 'dropout_1_rate': 0.12950003072643945, 'learning_rate': 0.0002892177243014543}. Best is trial 2 with value: 0.909500002861023.\u001b[0m\n",
            "\u001b[32m[I 2021-05-11 06:56:09,291]\u001b[0m Trial 7 finished with value: 0.8984166383743286 and parameters: {'conv_1_filter': 32, 'conv_1_kernel': 5, 'dense_nlayers': 4, 'dense_0_units': 70, 'dense_activation': 'tanh', 'dropout_0_rate': 0.3459042470702927, 'dense_1_units': 88, 'dropout_1_rate': 0.287046368013947, 'dense_2_units': 33, 'dropout_2_rate': 0.29095941174592355, 'dense_3_units': 76, 'dropout_3_rate': 0.14745915413010127, 'learning_rate': 0.00021630334981560288}. Best is trial 2 with value: 0.909500002861023.\u001b[0m\n",
            "\u001b[32m[I 2021-05-11 06:56:14,879]\u001b[0m Trial 8 finished with value: 0.09858333319425583 and parameters: {'conv_1_filter': 16, 'conv_1_kernel': 7, 'dense_nlayers': 5, 'dense_0_units': 49, 'dense_activation': 'elu', 'dropout_0_rate': 0.14937742679775534, 'dense_1_units': 181, 'dropout_1_rate': 0.14819165023063788, 'dense_2_units': 22, 'dropout_2_rate': 0.124697992339678, 'dense_3_units': 228, 'dropout_3_rate': 0.28580059264545354, 'dense_4_units': 112, 'dropout_4_rate': 0.4550024426772056, 'learning_rate': 0.026334848600674372}. Best is trial 2 with value: 0.909500002861023.\u001b[0m\n",
            "\u001b[32m[I 2021-05-11 06:56:23,521]\u001b[0m Trial 9 finished with value: 0.8414999842643738 and parameters: {'conv_1_filter': 16, 'conv_1_kernel': 5, 'dense_nlayers': 3, 'dense_0_units': 67, 'dense_activation': 'relu', 'dropout_0_rate': 0.35167237461285394, 'dense_1_units': 192, 'dropout_1_rate': 0.1405167163109925, 'dense_2_units': 111, 'dropout_2_rate': 0.17675521620930398, 'learning_rate': 0.013972081313321937}. Best is trial 2 with value: 0.909500002861023.\u001b[0m\n",
            "\u001b[32m[I 2021-05-11 06:56:48,330]\u001b[0m Trial 10 finished with value: 0.9127500057220459 and parameters: {'conv_1_filter': 128, 'conv_1_kernel': 3, 'dense_nlayers': 2, 'dense_0_units': 163, 'dense_activation': 'tanh', 'dropout_0_rate': 0.2319190010867785, 'dense_1_units': 18, 'dropout_1_rate': 0.26151212842330107, 'learning_rate': 0.0018288854961329255}. Best is trial 10 with value: 0.9127500057220459.\u001b[0m\n",
            "\u001b[32m[I 2021-05-11 06:57:15,893]\u001b[0m Trial 11 finished with value: 0.9144999980926514 and parameters: {'conv_1_filter': 128, 'conv_1_kernel': 3, 'dense_nlayers': 2, 'dense_0_units': 164, 'dense_activation': 'tanh', 'dropout_0_rate': 0.23373937149419055, 'dense_1_units': 16, 'dropout_1_rate': 0.2614603379178876, 'learning_rate': 0.001343884848321479}. Best is trial 11 with value: 0.9144999980926514.\u001b[0m\n",
            "\u001b[32m[I 2021-05-11 06:57:44,772]\u001b[0m Trial 12 finished with value: 0.9106666445732117 and parameters: {'conv_1_filter': 128, 'conv_1_kernel': 3, 'dense_nlayers': 2, 'dense_0_units': 216, 'dense_activation': 'tanh', 'dropout_0_rate': 0.24616334838727183, 'dense_1_units': 17, 'dropout_1_rate': 0.28044094071423264, 'learning_rate': 0.0014659037439117952}. Best is trial 11 with value: 0.9144999980926514.\u001b[0m\n",
            "\u001b[32m[I 2021-05-11 06:58:08,982]\u001b[0m Trial 13 finished with value: 0.9169166684150696 and parameters: {'conv_1_filter': 128, 'conv_1_kernel': 3, 'dense_nlayers': 1, 'dense_0_units': 139, 'dense_activation': 'tanh', 'dropout_0_rate': 0.23902236025981177, 'learning_rate': 0.001092537898600718}. Best is trial 13 with value: 0.9169166684150696.\u001b[0m\n",
            "\u001b[32m[I 2021-05-11 06:58:33,022]\u001b[0m Trial 14 finished with value: 0.9131666421890259 and parameters: {'conv_1_filter': 128, 'conv_1_kernel': 3, 'dense_nlayers': 1, 'dense_0_units': 132, 'dense_activation': 'elu', 'dropout_0_rate': 0.2281314655430583, 'learning_rate': 0.00096810422848757}. Best is trial 13 with value: 0.9169166684150696.\u001b[0m\n",
            "\u001b[32m[I 2021-05-11 06:58:58,459]\u001b[0m Trial 15 finished with value: 0.9127500057220459 and parameters: {'conv_1_filter': 128, 'conv_1_kernel': 3, 'dense_nlayers': 1, 'dense_0_units': 115, 'dense_activation': 'relu', 'dropout_0_rate': 0.2941279656734248, 'learning_rate': 0.0006972846069528961}. Best is trial 13 with value: 0.9169166684150696.\u001b[0m\n",
            "\u001b[32m[I 2021-05-11 06:59:20,072]\u001b[0m Trial 16 finished with value: 0.8641666769981384 and parameters: {'conv_1_filter': 128, 'conv_1_kernel': 7, 'dense_nlayers': 3, 'dense_0_units': 111, 'dense_activation': 'tanh', 'dropout_0_rate': 0.19596199176062207, 'dense_1_units': 39, 'dropout_1_rate': 0.4558792616731361, 'dense_2_units': 251, 'dropout_2_rate': 0.49887467768523197, 'learning_rate': 0.0044021312529238955}. Best is trial 13 with value: 0.9169166684150696.\u001b[0m\n",
            "\u001b[32m[I 2021-05-11 06:59:47,496]\u001b[0m Trial 17 finished with value: 0.9104999899864197 and parameters: {'conv_1_filter': 128, 'conv_1_kernel': 3, 'dense_nlayers': 1, 'dense_0_units': 180, 'dense_activation': 'tanh', 'dropout_0_rate': 0.28483982564951055, 'learning_rate': 0.00036279092857442345}. Best is trial 13 with value: 0.9169166684150696.\u001b[0m\n",
            "\u001b[32m[I 2021-05-11 07:00:17,878]\u001b[0m Trial 18 finished with value: 0.8954166769981384 and parameters: {'conv_1_filter': 128, 'conv_1_kernel': 3, 'dense_nlayers': 4, 'dense_0_units': 251, 'dense_activation': 'tanh', 'dropout_0_rate': 0.3405288746366305, 'dense_1_units': 27, 'dropout_1_rate': 0.3542862360983049, 'dense_2_units': 245, 'dropout_2_rate': 0.48078943479912195, 'dense_3_units': 16, 'dropout_3_rate': 0.49680700898668156, 'learning_rate': 0.00010837594068478231}. Best is trial 13 with value: 0.9169166684150696.\u001b[0m\n",
            "\u001b[32m[I 2021-05-11 07:00:34,655]\u001b[0m Trial 19 finished with value: 0.9083333611488342 and parameters: {'conv_1_filter': 128, 'conv_1_kernel': 3, 'dense_nlayers': 2, 'dense_0_units': 146, 'dense_activation': 'tanh', 'dropout_0_rate': 0.19161961031882782, 'dense_1_units': 49, 'dropout_1_rate': 0.4675829979238163, 'learning_rate': 0.0013164669057618126}. Best is trial 13 with value: 0.9169166684150696.\u001b[0m\n"
          ],
          "name": "stderr"
        }
      ]
    },
    {
      "cell_type": "code",
      "metadata": {
        "colab": {
          "base_uri": "https://localhost:8080/"
        },
        "id": "USQ_sqX6q_iQ",
        "outputId": "4b0b1152-7a1e-4d9d-a025-57ffc48b2f05"
      },
      "source": [
        "study.best_params"
      ],
      "execution_count": null,
      "outputs": [
        {
          "output_type": "execute_result",
          "data": {
            "text/plain": [
              "{'conv_1_filter': 128,\n",
              " 'conv_1_kernel': 3,\n",
              " 'dense_0_units': 139,\n",
              " 'dense_activation': 'tanh',\n",
              " 'dense_nlayers': 1,\n",
              " 'dropout_0_rate': 0.23902236025981177,\n",
              " 'learning_rate': 0.001092537898600718}"
            ]
          },
          "metadata": {
            "tags": []
          },
          "execution_count": 10
        }
      ]
    },
    {
      "cell_type": "code",
      "metadata": {
        "colab": {
          "base_uri": "https://localhost:8080/"
        },
        "id": "kvKhEVGwr8xU",
        "outputId": "48f65bf4-e41e-4d54-f66c-ffb9522fc379"
      },
      "source": [
        "study.best_value"
      ],
      "execution_count": null,
      "outputs": [
        {
          "output_type": "execute_result",
          "data": {
            "text/plain": [
              "0.9169166684150696"
            ]
          },
          "metadata": {
            "tags": []
          },
          "execution_count": 11
        }
      ]
    },
    {
      "cell_type": "code",
      "metadata": {
        "colab": {
          "base_uri": "https://localhost:8080/",
          "height": 542
        },
        "id": "IBGHLyhisBDC",
        "outputId": "3990204d-354b-472f-b278-ef9ab3c33c01"
      },
      "source": [
        "from optuna.visualization import plot_param_importances\n",
        "\n",
        "plot_param_importances(study)"
      ],
      "execution_count": null,
      "outputs": [
        {
          "output_type": "display_data",
          "data": {
            "text/html": [
              "<html>\n",
              "<head><meta charset=\"utf-8\" /></head>\n",
              "<body>\n",
              "    <div>\n",
              "            <script src=\"https://cdnjs.cloudflare.com/ajax/libs/mathjax/2.7.5/MathJax.js?config=TeX-AMS-MML_SVG\"></script><script type=\"text/javascript\">if (window.MathJax) {MathJax.Hub.Config({SVG: {font: \"STIX-Web\"}});}</script>\n",
              "                <script type=\"text/javascript\">window.PlotlyConfig = {MathJaxConfig: 'local'};</script>\n",
              "        <script src=\"https://cdn.plot.ly/plotly-latest.min.js\"></script>    \n",
              "            <div id=\"d84fee7a-14b2-47d0-bb6d-a4e64042874b\" class=\"plotly-graph-div\" style=\"height:525px; width:100%;\"></div>\n",
              "            <script type=\"text/javascript\">\n",
              "                \n",
              "                    window.PLOTLYENV=window.PLOTLYENV || {};\n",
              "                    \n",
              "                if (document.getElementById(\"d84fee7a-14b2-47d0-bb6d-a4e64042874b\")) {\n",
              "                    Plotly.newPlot(\n",
              "                        'd84fee7a-14b2-47d0-bb6d-a4e64042874b',\n",
              "                        [{\"cliponaxis\": false, \"hovertemplate\": [\"dropout_0_rate (UniformDistribution): 0.056862151956169366<extra></extra>\", \"dense_0_units (IntLogUniformDistribution): 0.08492633306152945<extra></extra>\", \"dense_activation (CategoricalDistribution): 0.12021583757683955<extra></extra>\", \"conv_1_filter (CategoricalDistribution): 0.1301698808216384<extra></extra>\", \"conv_1_kernel (CategoricalDistribution): 0.17960562782677464<extra></extra>\", \"learning_rate (LogUniformDistribution): 0.18090630772283386<extra></extra>\", \"dense_nlayers (IntUniformDistribution): 0.24731386103421457<extra></extra>\"], \"marker\": {\"color\": [\"rgb(8,48,107)\", \"rgb(8,81,156)\", \"rgb(66,146,198)\", \"rgb(66,146,198)\", \"rgb(66,146,198)\", \"rgb(8,48,107)\", \"rgb(8,81,156)\"]}, \"orientation\": \"h\", \"text\": [\"0.056862151956169366\", \"0.08492633306152945\", \"0.12021583757683955\", \"0.1301698808216384\", \"0.17960562782677464\", \"0.18090630772283386\", \"0.24731386103421457\"], \"textposition\": \"outside\", \"texttemplate\": \"%{text:.2f}\", \"type\": \"bar\", \"x\": [0.056862151956169366, 0.08492633306152945, 0.12021583757683955, 0.1301698808216384, 0.17960562782677464, 0.18090630772283386, 0.24731386103421457], \"y\": [\"dropout_0_rate\", \"dense_0_units\", \"dense_activation\", \"conv_1_filter\", \"conv_1_kernel\", \"learning_rate\", \"dense_nlayers\"]}],\n",
              "                        {\"showlegend\": false, \"template\": {\"data\": {\"bar\": [{\"error_x\": {\"color\": \"#2a3f5f\"}, \"error_y\": {\"color\": \"#2a3f5f\"}, \"marker\": {\"line\": {\"color\": \"#E5ECF6\", \"width\": 0.5}}, \"type\": \"bar\"}], \"barpolar\": [{\"marker\": {\"line\": {\"color\": \"#E5ECF6\", \"width\": 0.5}}, \"type\": \"barpolar\"}], \"carpet\": [{\"aaxis\": {\"endlinecolor\": \"#2a3f5f\", \"gridcolor\": \"white\", \"linecolor\": \"white\", \"minorgridcolor\": \"white\", \"startlinecolor\": \"#2a3f5f\"}, \"baxis\": {\"endlinecolor\": \"#2a3f5f\", \"gridcolor\": \"white\", \"linecolor\": \"white\", \"minorgridcolor\": \"white\", \"startlinecolor\": \"#2a3f5f\"}, \"type\": \"carpet\"}], \"choropleth\": [{\"colorbar\": {\"outlinewidth\": 0, \"ticks\": \"\"}, \"type\": \"choropleth\"}], \"contour\": [{\"colorbar\": {\"outlinewidth\": 0, \"ticks\": \"\"}, \"colorscale\": [[0.0, \"#0d0887\"], [0.1111111111111111, \"#46039f\"], [0.2222222222222222, \"#7201a8\"], [0.3333333333333333, \"#9c179e\"], [0.4444444444444444, \"#bd3786\"], [0.5555555555555556, \"#d8576b\"], [0.6666666666666666, \"#ed7953\"], [0.7777777777777778, \"#fb9f3a\"], [0.8888888888888888, \"#fdca26\"], [1.0, \"#f0f921\"]], \"type\": \"contour\"}], \"contourcarpet\": [{\"colorbar\": {\"outlinewidth\": 0, \"ticks\": \"\"}, \"type\": \"contourcarpet\"}], \"heatmap\": [{\"colorbar\": {\"outlinewidth\": 0, \"ticks\": \"\"}, \"colorscale\": [[0.0, \"#0d0887\"], [0.1111111111111111, \"#46039f\"], [0.2222222222222222, \"#7201a8\"], [0.3333333333333333, \"#9c179e\"], [0.4444444444444444, \"#bd3786\"], [0.5555555555555556, \"#d8576b\"], [0.6666666666666666, \"#ed7953\"], [0.7777777777777778, \"#fb9f3a\"], [0.8888888888888888, \"#fdca26\"], [1.0, \"#f0f921\"]], \"type\": \"heatmap\"}], \"heatmapgl\": [{\"colorbar\": {\"outlinewidth\": 0, \"ticks\": \"\"}, \"colorscale\": [[0.0, \"#0d0887\"], [0.1111111111111111, \"#46039f\"], [0.2222222222222222, \"#7201a8\"], [0.3333333333333333, \"#9c179e\"], [0.4444444444444444, \"#bd3786\"], [0.5555555555555556, \"#d8576b\"], [0.6666666666666666, \"#ed7953\"], [0.7777777777777778, \"#fb9f3a\"], [0.8888888888888888, \"#fdca26\"], [1.0, \"#f0f921\"]], \"type\": \"heatmapgl\"}], \"histogram\": [{\"marker\": {\"colorbar\": {\"outlinewidth\": 0, \"ticks\": \"\"}}, \"type\": \"histogram\"}], \"histogram2d\": [{\"colorbar\": {\"outlinewidth\": 0, \"ticks\": \"\"}, \"colorscale\": [[0.0, \"#0d0887\"], [0.1111111111111111, \"#46039f\"], [0.2222222222222222, \"#7201a8\"], [0.3333333333333333, \"#9c179e\"], [0.4444444444444444, \"#bd3786\"], [0.5555555555555556, \"#d8576b\"], [0.6666666666666666, \"#ed7953\"], [0.7777777777777778, \"#fb9f3a\"], [0.8888888888888888, \"#fdca26\"], [1.0, \"#f0f921\"]], \"type\": \"histogram2d\"}], \"histogram2dcontour\": [{\"colorbar\": {\"outlinewidth\": 0, \"ticks\": \"\"}, \"colorscale\": [[0.0, \"#0d0887\"], [0.1111111111111111, \"#46039f\"], [0.2222222222222222, \"#7201a8\"], [0.3333333333333333, \"#9c179e\"], [0.4444444444444444, \"#bd3786\"], [0.5555555555555556, \"#d8576b\"], [0.6666666666666666, \"#ed7953\"], [0.7777777777777778, \"#fb9f3a\"], [0.8888888888888888, \"#fdca26\"], [1.0, \"#f0f921\"]], \"type\": \"histogram2dcontour\"}], \"mesh3d\": [{\"colorbar\": {\"outlinewidth\": 0, \"ticks\": \"\"}, \"type\": \"mesh3d\"}], \"parcoords\": [{\"line\": {\"colorbar\": {\"outlinewidth\": 0, \"ticks\": \"\"}}, \"type\": \"parcoords\"}], \"pie\": [{\"automargin\": true, \"type\": \"pie\"}], \"scatter\": [{\"marker\": {\"colorbar\": {\"outlinewidth\": 0, \"ticks\": \"\"}}, \"type\": \"scatter\"}], \"scatter3d\": [{\"line\": {\"colorbar\": {\"outlinewidth\": 0, \"ticks\": \"\"}}, \"marker\": {\"colorbar\": {\"outlinewidth\": 0, \"ticks\": \"\"}}, \"type\": \"scatter3d\"}], \"scattercarpet\": [{\"marker\": {\"colorbar\": {\"outlinewidth\": 0, \"ticks\": \"\"}}, \"type\": \"scattercarpet\"}], \"scattergeo\": [{\"marker\": {\"colorbar\": {\"outlinewidth\": 0, \"ticks\": \"\"}}, \"type\": \"scattergeo\"}], \"scattergl\": [{\"marker\": {\"colorbar\": {\"outlinewidth\": 0, \"ticks\": \"\"}}, \"type\": \"scattergl\"}], \"scattermapbox\": [{\"marker\": {\"colorbar\": {\"outlinewidth\": 0, \"ticks\": \"\"}}, \"type\": \"scattermapbox\"}], \"scatterpolar\": [{\"marker\": {\"colorbar\": {\"outlinewidth\": 0, \"ticks\": \"\"}}, \"type\": \"scatterpolar\"}], \"scatterpolargl\": [{\"marker\": {\"colorbar\": {\"outlinewidth\": 0, \"ticks\": \"\"}}, \"type\": \"scatterpolargl\"}], \"scatterternary\": [{\"marker\": {\"colorbar\": {\"outlinewidth\": 0, \"ticks\": \"\"}}, \"type\": \"scatterternary\"}], \"surface\": [{\"colorbar\": {\"outlinewidth\": 0, \"ticks\": \"\"}, \"colorscale\": [[0.0, \"#0d0887\"], [0.1111111111111111, \"#46039f\"], [0.2222222222222222, \"#7201a8\"], [0.3333333333333333, \"#9c179e\"], [0.4444444444444444, \"#bd3786\"], [0.5555555555555556, \"#d8576b\"], [0.6666666666666666, \"#ed7953\"], [0.7777777777777778, \"#fb9f3a\"], [0.8888888888888888, \"#fdca26\"], [1.0, \"#f0f921\"]], \"type\": \"surface\"}], \"table\": [{\"cells\": {\"fill\": {\"color\": \"#EBF0F8\"}, \"line\": {\"color\": \"white\"}}, \"header\": {\"fill\": {\"color\": \"#C8D4E3\"}, \"line\": {\"color\": \"white\"}}, \"type\": \"table\"}]}, \"layout\": {\"annotationdefaults\": {\"arrowcolor\": \"#2a3f5f\", \"arrowhead\": 0, \"arrowwidth\": 1}, \"coloraxis\": {\"colorbar\": {\"outlinewidth\": 0, \"ticks\": \"\"}}, \"colorscale\": {\"diverging\": [[0, \"#8e0152\"], [0.1, \"#c51b7d\"], [0.2, \"#de77ae\"], [0.3, \"#f1b6da\"], [0.4, \"#fde0ef\"], [0.5, \"#f7f7f7\"], [0.6, \"#e6f5d0\"], [0.7, \"#b8e186\"], [0.8, \"#7fbc41\"], [0.9, \"#4d9221\"], [1, \"#276419\"]], \"sequential\": [[0.0, \"#0d0887\"], [0.1111111111111111, \"#46039f\"], [0.2222222222222222, \"#7201a8\"], [0.3333333333333333, \"#9c179e\"], [0.4444444444444444, \"#bd3786\"], [0.5555555555555556, \"#d8576b\"], [0.6666666666666666, \"#ed7953\"], [0.7777777777777778, \"#fb9f3a\"], [0.8888888888888888, \"#fdca26\"], [1.0, \"#f0f921\"]], \"sequentialminus\": [[0.0, \"#0d0887\"], [0.1111111111111111, \"#46039f\"], [0.2222222222222222, \"#7201a8\"], [0.3333333333333333, \"#9c179e\"], [0.4444444444444444, \"#bd3786\"], [0.5555555555555556, \"#d8576b\"], [0.6666666666666666, \"#ed7953\"], [0.7777777777777778, \"#fb9f3a\"], [0.8888888888888888, \"#fdca26\"], [1.0, \"#f0f921\"]]}, \"colorway\": [\"#636efa\", \"#EF553B\", \"#00cc96\", \"#ab63fa\", \"#FFA15A\", \"#19d3f3\", \"#FF6692\", \"#B6E880\", \"#FF97FF\", \"#FECB52\"], \"font\": {\"color\": \"#2a3f5f\"}, \"geo\": {\"bgcolor\": \"white\", \"lakecolor\": \"white\", \"landcolor\": \"#E5ECF6\", \"showlakes\": true, \"showland\": true, \"subunitcolor\": \"white\"}, \"hoverlabel\": {\"align\": \"left\"}, \"hovermode\": \"closest\", \"mapbox\": {\"style\": \"light\"}, \"paper_bgcolor\": \"white\", \"plot_bgcolor\": \"#E5ECF6\", \"polar\": {\"angularaxis\": {\"gridcolor\": \"white\", \"linecolor\": \"white\", \"ticks\": \"\"}, \"bgcolor\": \"#E5ECF6\", \"radialaxis\": {\"gridcolor\": \"white\", \"linecolor\": \"white\", \"ticks\": \"\"}}, \"scene\": {\"xaxis\": {\"backgroundcolor\": \"#E5ECF6\", \"gridcolor\": \"white\", \"gridwidth\": 2, \"linecolor\": \"white\", \"showbackground\": true, \"ticks\": \"\", \"zerolinecolor\": \"white\"}, \"yaxis\": {\"backgroundcolor\": \"#E5ECF6\", \"gridcolor\": \"white\", \"gridwidth\": 2, \"linecolor\": \"white\", \"showbackground\": true, \"ticks\": \"\", \"zerolinecolor\": \"white\"}, \"zaxis\": {\"backgroundcolor\": \"#E5ECF6\", \"gridcolor\": \"white\", \"gridwidth\": 2, \"linecolor\": \"white\", \"showbackground\": true, \"ticks\": \"\", \"zerolinecolor\": \"white\"}}, \"shapedefaults\": {\"line\": {\"color\": \"#2a3f5f\"}}, \"ternary\": {\"aaxis\": {\"gridcolor\": \"white\", \"linecolor\": \"white\", \"ticks\": \"\"}, \"baxis\": {\"gridcolor\": \"white\", \"linecolor\": \"white\", \"ticks\": \"\"}, \"bgcolor\": \"#E5ECF6\", \"caxis\": {\"gridcolor\": \"white\", \"linecolor\": \"white\", \"ticks\": \"\"}}, \"title\": {\"x\": 0.05}, \"xaxis\": {\"automargin\": true, \"gridcolor\": \"white\", \"linecolor\": \"white\", \"ticks\": \"\", \"title\": {\"standoff\": 15}, \"zerolinecolor\": \"white\", \"zerolinewidth\": 2}, \"yaxis\": {\"automargin\": true, \"gridcolor\": \"white\", \"linecolor\": \"white\", \"ticks\": \"\", \"title\": {\"standoff\": 15}, \"zerolinecolor\": \"white\", \"zerolinewidth\": 2}}}, \"title\": {\"text\": \"Hyperparameter Importances\"}, \"xaxis\": {\"title\": {\"text\": \"Importance for Objective Value\"}}, \"yaxis\": {\"title\": {\"text\": \"Hyperparameter\"}}},\n",
              "                        {\"responsive\": true}\n",
              "                    ).then(function(){\n",
              "                            \n",
              "var gd = document.getElementById('d84fee7a-14b2-47d0-bb6d-a4e64042874b');\n",
              "var x = new MutationObserver(function (mutations, observer) {{\n",
              "        var display = window.getComputedStyle(gd).display;\n",
              "        if (!display || display === 'none') {{\n",
              "            console.log([gd, 'removed!']);\n",
              "            Plotly.purge(gd);\n",
              "            observer.disconnect();\n",
              "        }}\n",
              "}});\n",
              "\n",
              "// Listen for the removal of the full notebook cells\n",
              "var notebookContainer = gd.closest('#notebook-container');\n",
              "if (notebookContainer) {{\n",
              "    x.observe(notebookContainer, {childList: true});\n",
              "}}\n",
              "\n",
              "// Listen for the clearing of the current output cell\n",
              "var outputEl = gd.closest('.output');\n",
              "if (outputEl) {{\n",
              "    x.observe(outputEl, {childList: true});\n",
              "}}\n",
              "\n",
              "                        })\n",
              "                };\n",
              "                \n",
              "            </script>\n",
              "        </div>\n",
              "</body>\n",
              "</html>"
            ]
          },
          "metadata": {
            "tags": []
          }
        }
      ]
    },
    {
      "cell_type": "code",
      "metadata": {
        "colab": {
          "base_uri": "https://localhost:8080/"
        },
        "id": "PjrXo9QDOxnC",
        "outputId": "9dd98b09-5cf1-4f82-9873-ede1b19a7d13"
      },
      "source": [
        "study.optimize(objective, n_trials=20)"
      ],
      "execution_count": null,
      "outputs": [
        {
          "output_type": "stream",
          "text": [
            "\u001b[32m[I 2021-05-11 07:02:30,675]\u001b[0m Trial 20 finished with value: 0.9041666388511658 and parameters: {'conv_1_filter': 64, 'conv_1_kernel': 7, 'dense_nlayers': 1, 'dense_0_units': 95, 'dense_activation': 'elu', 'dropout_0_rate': 0.2678866307355652, 'learning_rate': 0.002704094818049243}. Best is trial 13 with value: 0.9169166684150696.\u001b[0m\n",
            "\u001b[32m[I 2021-05-11 07:02:49,602]\u001b[0m Trial 21 finished with value: 0.9129999876022339 and parameters: {'conv_1_filter': 128, 'conv_1_kernel': 3, 'dense_nlayers': 1, 'dense_0_units': 130, 'dense_activation': 'elu', 'dropout_0_rate': 0.21703452543133672, 'learning_rate': 0.0008890945449834435}. Best is trial 13 with value: 0.9169166684150696.\u001b[0m\n",
            "\u001b[32m[I 2021-05-11 07:03:11,883]\u001b[0m Trial 22 finished with value: 0.9109166860580444 and parameters: {'conv_1_filter': 128, 'conv_1_kernel': 3, 'dense_nlayers': 1, 'dense_0_units': 180, 'dense_activation': 'elu', 'dropout_0_rate': 0.2516660679803939, 'learning_rate': 0.0009752838227103027}. Best is trial 13 with value: 0.9169166684150696.\u001b[0m\n",
            "\u001b[32m[I 2021-05-11 07:03:37,507]\u001b[0m Trial 23 finished with value: 0.9119166731834412 and parameters: {'conv_1_filter': 128, 'conv_1_kernel': 3, 'dense_nlayers': 2, 'dense_0_units': 93, 'dense_activation': 'elu', 'dropout_0_rate': 0.3120646234343198, 'dense_1_units': 22, 'dropout_1_rate': 0.3734117930492678, 'learning_rate': 0.0005330489547987223}. Best is trial 13 with value: 0.9169166684150696.\u001b[0m\n",
            "\u001b[32m[I 2021-05-11 07:03:57,290]\u001b[0m Trial 24 finished with value: 0.9137499928474426 and parameters: {'conv_1_filter': 128, 'conv_1_kernel': 3, 'dense_nlayers': 1, 'dense_0_units': 198, 'dense_activation': 'elu', 'dropout_0_rate': 0.19422952904145224, 'learning_rate': 0.0023101714010811064}. Best is trial 13 with value: 0.9169166684150696.\u001b[0m\n",
            "\u001b[32m[I 2021-05-11 07:04:24,440]\u001b[0m Trial 25 finished with value: 0.9034166932106018 and parameters: {'conv_1_filter': 256, 'conv_1_kernel': 3, 'dense_nlayers': 2, 'dense_0_units': 201, 'dense_activation': 'relu', 'dropout_0_rate': 0.19233975089723288, 'dense_1_units': 125, 'dropout_1_rate': 0.20897983655023422, 'learning_rate': 0.007946262142632218}. Best is trial 13 with value: 0.9169166684150696.\u001b[0m\n",
            "\u001b[32m[I 2021-05-11 07:04:39,808]\u001b[0m Trial 26 finished with value: 0.9042500257492065 and parameters: {'conv_1_filter': 128, 'conv_1_kernel': 3, 'dense_nlayers': 1, 'dense_0_units': 250, 'dense_activation': 'elu', 'dropout_0_rate': 0.19241305519491445, 'learning_rate': 0.0020220254346142146}. Best is trial 13 with value: 0.9169166684150696.\u001b[0m\n",
            "\u001b[32m[I 2021-05-11 07:04:54,610]\u001b[0m Trial 27 finished with value: 0.9035833477973938 and parameters: {'conv_1_filter': 128, 'conv_1_kernel': 3, 'dense_nlayers': 2, 'dense_0_units': 32, 'dense_activation': 'tanh', 'dropout_0_rate': 0.32304705356743035, 'dense_1_units': 46, 'dropout_1_rate': 0.4194532055020965, 'learning_rate': 0.004460798211257129}. Best is trial 13 with value: 0.9169166684150696.\u001b[0m\n",
            "\u001b[32m[I 2021-05-11 07:05:09,427]\u001b[0m Trial 28 finished with value: 0.8793333172798157 and parameters: {'conv_1_filter': 128, 'conv_1_kernel': 3, 'dense_nlayers': 3, 'dense_0_units': 17, 'dense_activation': 'elu', 'dropout_0_rate': 0.2642803076988117, 'dense_1_units': 60, 'dropout_1_rate': 0.10050806435458176, 'dense_2_units': 121, 'dropout_2_rate': 0.32107237036409564, 'learning_rate': 0.011484580055242001}. Best is trial 13 with value: 0.9169166684150696.\u001b[0m\n",
            "\u001b[32m[I 2021-05-11 07:05:21,812]\u001b[0m Trial 29 finished with value: 0.903333306312561 and parameters: {'conv_1_filter': 64, 'conv_1_kernel': 7, 'dense_nlayers': 1, 'dense_0_units': 157, 'dense_activation': 'tanh', 'dropout_0_rate': 0.10150728459913103, 'learning_rate': 0.0030330084049613694}. Best is trial 13 with value: 0.9169166684150696.\u001b[0m\n",
            "\u001b[32m[I 2021-05-11 07:05:47,919]\u001b[0m Trial 30 finished with value: 0.9104999899864197 and parameters: {'conv_1_filter': 128, 'conv_1_kernel': 3, 'dense_nlayers': 2, 'dense_0_units': 93, 'dense_activation': 'tanh', 'dropout_0_rate': 0.16934743989774334, 'dense_1_units': 120, 'dropout_1_rate': 0.3299077032567078, 'learning_rate': 0.00022259616742495002}. Best is trial 13 with value: 0.9169166684150696.\u001b[0m\n",
            "\u001b[32m[I 2021-05-11 07:06:13,570]\u001b[0m Trial 31 finished with value: 0.9174166917800903 and parameters: {'conv_1_filter': 128, 'conv_1_kernel': 3, 'dense_nlayers': 1, 'dense_0_units': 121, 'dense_activation': 'elu', 'dropout_0_rate': 0.21799333994046122, 'learning_rate': 0.0011237589940639597}. Best is trial 31 with value: 0.9174166917800903.\u001b[0m\n",
            "\u001b[32m[I 2021-05-11 07:06:33,549]\u001b[0m Trial 32 finished with value: 0.9104166626930237 and parameters: {'conv_1_filter': 128, 'conv_1_kernel': 3, 'dense_nlayers': 1, 'dense_0_units': 195, 'dense_activation': 'elu', 'dropout_0_rate': 0.2188731474428132, 'learning_rate': 0.0012934447241283696}. Best is trial 31 with value: 0.9174166917800903.\u001b[0m\n",
            "\u001b[32m[I 2021-05-11 07:06:48,392]\u001b[0m Trial 33 finished with value: 0.9107499718666077 and parameters: {'conv_1_filter': 64, 'conv_1_kernel': 3, 'dense_nlayers': 1, 'dense_0_units': 115, 'dense_activation': 'elu', 'dropout_0_rate': 0.11998273802080688, 'learning_rate': 0.0004663225395291217}. Best is trial 31 with value: 0.9174166917800903.\u001b[0m\n",
            "\u001b[32m[I 2021-05-11 07:06:59,457]\u001b[0m Trial 34 finished with value: 0.9075000286102295 and parameters: {'conv_1_filter': 32, 'conv_1_kernel': 3, 'dense_nlayers': 2, 'dense_0_units': 148, 'dense_activation': 'elu', 'dropout_0_rate': 0.1695886957414568, 'dense_1_units': 31, 'dropout_1_rate': 0.2395592698415216, 'learning_rate': 0.002213174594739588}. Best is trial 31 with value: 0.9174166917800903.\u001b[0m\n",
            "\u001b[32m[I 2021-05-11 07:07:26,087]\u001b[0m Trial 35 finished with value: 0.9175833463668823 and parameters: {'conv_1_filter': 128, 'conv_1_kernel': 3, 'dense_nlayers': 1, 'dense_0_units': 130, 'dense_activation': 'elu', 'dropout_0_rate': 0.2767246279301598, 'learning_rate': 0.0008354864372338639}. Best is trial 35 with value: 0.9175833463668823.\u001b[0m\n",
            "\u001b[32m[I 2021-05-11 07:07:51,731]\u001b[0m Trial 36 finished with value: 0.9110000133514404 and parameters: {'conv_1_filter': 128, 'conv_1_kernel': 3, 'dense_nlayers': 2, 'dense_0_units': 105, 'dense_activation': 'tanh', 'dropout_0_rate': 0.2748506350312117, 'dense_1_units': 23, 'dropout_1_rate': 0.49534838966105743, 'learning_rate': 0.0007158745689143175}. Best is trial 35 with value: 0.9175833463668823.\u001b[0m\n",
            "\u001b[32m[I 2021-05-11 07:08:00,952]\u001b[0m Trial 37 finished with value: 0.8917499780654907 and parameters: {'conv_1_filter': 16, 'conv_1_kernel': 3, 'dense_nlayers': 1, 'dense_0_units': 81, 'dense_activation': 'elu', 'dropout_0_rate': 0.24478144694067866, 'learning_rate': 0.0001741701578849235}. Best is trial 35 with value: 0.9175833463668823.\u001b[0m\n",
            "\u001b[32m[I 2021-05-11 07:08:12,157]\u001b[0m Trial 38 finished with value: 0.903083324432373 and parameters: {'conv_1_filter': 32, 'conv_1_kernel': 3, 'dense_nlayers': 3, 'dense_0_units': 131, 'dense_activation': 'tanh', 'dropout_0_rate': 0.2969550498316997, 'dense_1_units': 18, 'dropout_1_rate': 0.31691870998587823, 'dense_2_units': 117, 'dropout_2_rate': 0.29002693206984087, 'learning_rate': 0.0003587376687916145}. Best is trial 35 with value: 0.9175833463668823.\u001b[0m\n",
            "\u001b[32m[I 2021-05-11 07:08:45,660]\u001b[0m Trial 39 finished with value: 0.9111666679382324 and parameters: {'conv_1_filter': 256, 'conv_1_kernel': 3, 'dense_nlayers': 2, 'dense_0_units': 58, 'dense_activation': 'relu', 'dropout_0_rate': 0.21422542615341594, 'dense_1_units': 128, 'dropout_1_rate': 0.1833469102895545, 'learning_rate': 0.001212407605935974}. Best is trial 35 with value: 0.9175833463668823.\u001b[0m\n"
          ],
          "name": "stderr"
        }
      ]
    },
    {
      "cell_type": "code",
      "metadata": {
        "colab": {
          "base_uri": "https://localhost:8080/",
          "height": 542
        },
        "id": "ZrvrCAONTnzm",
        "outputId": "62c14278-6378-4bb2-ae57-1cc647144ce5"
      },
      "source": [
        "from optuna.visualization import plot_param_importances\n",
        "\n",
        "plot_param_importances(study)"
      ],
      "execution_count": null,
      "outputs": [
        {
          "output_type": "display_data",
          "data": {
            "text/html": [
              "<html>\n",
              "<head><meta charset=\"utf-8\" /></head>\n",
              "<body>\n",
              "    <div>\n",
              "            <script src=\"https://cdnjs.cloudflare.com/ajax/libs/mathjax/2.7.5/MathJax.js?config=TeX-AMS-MML_SVG\"></script><script type=\"text/javascript\">if (window.MathJax) {MathJax.Hub.Config({SVG: {font: \"STIX-Web\"}});}</script>\n",
              "                <script type=\"text/javascript\">window.PlotlyConfig = {MathJaxConfig: 'local'};</script>\n",
              "        <script src=\"https://cdn.plot.ly/plotly-latest.min.js\"></script>    \n",
              "            <div id=\"0cf1b123-5835-4069-a44d-1adf315924ec\" class=\"plotly-graph-div\" style=\"height:525px; width:100%;\"></div>\n",
              "            <script type=\"text/javascript\">\n",
              "                \n",
              "                    window.PLOTLYENV=window.PLOTLYENV || {};\n",
              "                    \n",
              "                if (document.getElementById(\"0cf1b123-5835-4069-a44d-1adf315924ec\")) {\n",
              "                    Plotly.newPlot(\n",
              "                        '0cf1b123-5835-4069-a44d-1adf315924ec',\n",
              "                        [{\"cliponaxis\": false, \"hovertemplate\": [\"dropout_0_rate (UniformDistribution): 0.013573083706811448<extra></extra>\", \"dense_0_units (IntLogUniformDistribution): 0.04885142474181968<extra></extra>\", \"dense_activation (CategoricalDistribution): 0.08680188340720955<extra></extra>\", \"conv_1_filter (CategoricalDistribution): 0.09338527860878251<extra></extra>\", \"conv_1_kernel (CategoricalDistribution): 0.12255453651558143<extra></extra>\", \"dense_nlayers (IntUniformDistribution): 0.3083792537833832<extra></extra>\", \"learning_rate (LogUniformDistribution): 0.3264545392364121<extra></extra>\"], \"marker\": {\"color\": [\"rgb(8,48,107)\", \"rgb(8,81,156)\", \"rgb(66,146,198)\", \"rgb(66,146,198)\", \"rgb(66,146,198)\", \"rgb(8,81,156)\", \"rgb(8,48,107)\"]}, \"orientation\": \"h\", \"text\": [\"0.013573083706811448\", \"0.04885142474181968\", \"0.08680188340720955\", \"0.09338527860878251\", \"0.12255453651558143\", \"0.3083792537833832\", \"0.3264545392364121\"], \"textposition\": \"outside\", \"texttemplate\": \"%{text:.2f}\", \"type\": \"bar\", \"x\": [0.013573083706811448, 0.04885142474181968, 0.08680188340720955, 0.09338527860878251, 0.12255453651558143, 0.3083792537833832, 0.3264545392364121], \"y\": [\"dropout_0_rate\", \"dense_0_units\", \"dense_activation\", \"conv_1_filter\", \"conv_1_kernel\", \"dense_nlayers\", \"learning_rate\"]}],\n",
              "                        {\"showlegend\": false, \"template\": {\"data\": {\"bar\": [{\"error_x\": {\"color\": \"#2a3f5f\"}, \"error_y\": {\"color\": \"#2a3f5f\"}, \"marker\": {\"line\": {\"color\": \"#E5ECF6\", \"width\": 0.5}}, \"type\": \"bar\"}], \"barpolar\": [{\"marker\": {\"line\": {\"color\": \"#E5ECF6\", \"width\": 0.5}}, \"type\": \"barpolar\"}], \"carpet\": [{\"aaxis\": {\"endlinecolor\": \"#2a3f5f\", \"gridcolor\": \"white\", \"linecolor\": \"white\", \"minorgridcolor\": \"white\", \"startlinecolor\": \"#2a3f5f\"}, \"baxis\": {\"endlinecolor\": \"#2a3f5f\", \"gridcolor\": \"white\", \"linecolor\": \"white\", \"minorgridcolor\": \"white\", \"startlinecolor\": \"#2a3f5f\"}, \"type\": \"carpet\"}], \"choropleth\": [{\"colorbar\": {\"outlinewidth\": 0, \"ticks\": \"\"}, \"type\": \"choropleth\"}], \"contour\": [{\"colorbar\": {\"outlinewidth\": 0, \"ticks\": \"\"}, \"colorscale\": [[0.0, \"#0d0887\"], [0.1111111111111111, \"#46039f\"], [0.2222222222222222, \"#7201a8\"], [0.3333333333333333, \"#9c179e\"], [0.4444444444444444, \"#bd3786\"], [0.5555555555555556, \"#d8576b\"], [0.6666666666666666, \"#ed7953\"], [0.7777777777777778, \"#fb9f3a\"], [0.8888888888888888, \"#fdca26\"], [1.0, \"#f0f921\"]], \"type\": \"contour\"}], \"contourcarpet\": [{\"colorbar\": {\"outlinewidth\": 0, \"ticks\": \"\"}, \"type\": \"contourcarpet\"}], \"heatmap\": [{\"colorbar\": {\"outlinewidth\": 0, \"ticks\": \"\"}, \"colorscale\": [[0.0, \"#0d0887\"], [0.1111111111111111, \"#46039f\"], [0.2222222222222222, \"#7201a8\"], [0.3333333333333333, \"#9c179e\"], [0.4444444444444444, \"#bd3786\"], [0.5555555555555556, \"#d8576b\"], [0.6666666666666666, \"#ed7953\"], [0.7777777777777778, \"#fb9f3a\"], [0.8888888888888888, \"#fdca26\"], [1.0, \"#f0f921\"]], \"type\": \"heatmap\"}], \"heatmapgl\": [{\"colorbar\": {\"outlinewidth\": 0, \"ticks\": \"\"}, \"colorscale\": [[0.0, \"#0d0887\"], [0.1111111111111111, \"#46039f\"], [0.2222222222222222, \"#7201a8\"], [0.3333333333333333, \"#9c179e\"], [0.4444444444444444, \"#bd3786\"], [0.5555555555555556, \"#d8576b\"], [0.6666666666666666, \"#ed7953\"], [0.7777777777777778, \"#fb9f3a\"], [0.8888888888888888, \"#fdca26\"], [1.0, \"#f0f921\"]], \"type\": \"heatmapgl\"}], \"histogram\": [{\"marker\": {\"colorbar\": {\"outlinewidth\": 0, \"ticks\": \"\"}}, \"type\": \"histogram\"}], \"histogram2d\": [{\"colorbar\": {\"outlinewidth\": 0, \"ticks\": \"\"}, \"colorscale\": [[0.0, \"#0d0887\"], [0.1111111111111111, \"#46039f\"], [0.2222222222222222, \"#7201a8\"], [0.3333333333333333, \"#9c179e\"], [0.4444444444444444, \"#bd3786\"], [0.5555555555555556, \"#d8576b\"], [0.6666666666666666, \"#ed7953\"], [0.7777777777777778, \"#fb9f3a\"], [0.8888888888888888, \"#fdca26\"], [1.0, \"#f0f921\"]], \"type\": \"histogram2d\"}], \"histogram2dcontour\": [{\"colorbar\": {\"outlinewidth\": 0, \"ticks\": \"\"}, \"colorscale\": [[0.0, \"#0d0887\"], [0.1111111111111111, \"#46039f\"], [0.2222222222222222, \"#7201a8\"], [0.3333333333333333, \"#9c179e\"], [0.4444444444444444, \"#bd3786\"], [0.5555555555555556, \"#d8576b\"], [0.6666666666666666, \"#ed7953\"], [0.7777777777777778, \"#fb9f3a\"], [0.8888888888888888, \"#fdca26\"], [1.0, \"#f0f921\"]], \"type\": \"histogram2dcontour\"}], \"mesh3d\": [{\"colorbar\": {\"outlinewidth\": 0, \"ticks\": \"\"}, \"type\": \"mesh3d\"}], \"parcoords\": [{\"line\": {\"colorbar\": {\"outlinewidth\": 0, \"ticks\": \"\"}}, \"type\": \"parcoords\"}], \"pie\": [{\"automargin\": true, \"type\": \"pie\"}], \"scatter\": [{\"marker\": {\"colorbar\": {\"outlinewidth\": 0, \"ticks\": \"\"}}, \"type\": \"scatter\"}], \"scatter3d\": [{\"line\": {\"colorbar\": {\"outlinewidth\": 0, \"ticks\": \"\"}}, \"marker\": {\"colorbar\": {\"outlinewidth\": 0, \"ticks\": \"\"}}, \"type\": \"scatter3d\"}], \"scattercarpet\": [{\"marker\": {\"colorbar\": {\"outlinewidth\": 0, \"ticks\": \"\"}}, \"type\": \"scattercarpet\"}], \"scattergeo\": [{\"marker\": {\"colorbar\": {\"outlinewidth\": 0, \"ticks\": \"\"}}, \"type\": \"scattergeo\"}], \"scattergl\": [{\"marker\": {\"colorbar\": {\"outlinewidth\": 0, \"ticks\": \"\"}}, \"type\": \"scattergl\"}], \"scattermapbox\": [{\"marker\": {\"colorbar\": {\"outlinewidth\": 0, \"ticks\": \"\"}}, \"type\": \"scattermapbox\"}], \"scatterpolar\": [{\"marker\": {\"colorbar\": {\"outlinewidth\": 0, \"ticks\": \"\"}}, \"type\": \"scatterpolar\"}], \"scatterpolargl\": [{\"marker\": {\"colorbar\": {\"outlinewidth\": 0, \"ticks\": \"\"}}, \"type\": \"scatterpolargl\"}], \"scatterternary\": [{\"marker\": {\"colorbar\": {\"outlinewidth\": 0, \"ticks\": \"\"}}, \"type\": \"scatterternary\"}], \"surface\": [{\"colorbar\": {\"outlinewidth\": 0, \"ticks\": \"\"}, \"colorscale\": [[0.0, \"#0d0887\"], [0.1111111111111111, \"#46039f\"], [0.2222222222222222, \"#7201a8\"], [0.3333333333333333, \"#9c179e\"], [0.4444444444444444, \"#bd3786\"], [0.5555555555555556, \"#d8576b\"], [0.6666666666666666, \"#ed7953\"], [0.7777777777777778, \"#fb9f3a\"], [0.8888888888888888, \"#fdca26\"], [1.0, \"#f0f921\"]], \"type\": \"surface\"}], \"table\": [{\"cells\": {\"fill\": {\"color\": \"#EBF0F8\"}, \"line\": {\"color\": \"white\"}}, \"header\": {\"fill\": {\"color\": \"#C8D4E3\"}, \"line\": {\"color\": \"white\"}}, \"type\": \"table\"}]}, \"layout\": {\"annotationdefaults\": {\"arrowcolor\": \"#2a3f5f\", \"arrowhead\": 0, \"arrowwidth\": 1}, \"coloraxis\": {\"colorbar\": {\"outlinewidth\": 0, \"ticks\": \"\"}}, \"colorscale\": {\"diverging\": [[0, \"#8e0152\"], [0.1, \"#c51b7d\"], [0.2, \"#de77ae\"], [0.3, \"#f1b6da\"], [0.4, \"#fde0ef\"], [0.5, \"#f7f7f7\"], [0.6, \"#e6f5d0\"], [0.7, \"#b8e186\"], [0.8, \"#7fbc41\"], [0.9, \"#4d9221\"], [1, \"#276419\"]], \"sequential\": [[0.0, \"#0d0887\"], [0.1111111111111111, \"#46039f\"], [0.2222222222222222, \"#7201a8\"], [0.3333333333333333, \"#9c179e\"], [0.4444444444444444, \"#bd3786\"], [0.5555555555555556, \"#d8576b\"], [0.6666666666666666, \"#ed7953\"], [0.7777777777777778, \"#fb9f3a\"], [0.8888888888888888, \"#fdca26\"], [1.0, \"#f0f921\"]], \"sequentialminus\": [[0.0, \"#0d0887\"], [0.1111111111111111, \"#46039f\"], [0.2222222222222222, \"#7201a8\"], [0.3333333333333333, \"#9c179e\"], [0.4444444444444444, \"#bd3786\"], [0.5555555555555556, \"#d8576b\"], [0.6666666666666666, \"#ed7953\"], [0.7777777777777778, \"#fb9f3a\"], [0.8888888888888888, \"#fdca26\"], [1.0, \"#f0f921\"]]}, \"colorway\": [\"#636efa\", \"#EF553B\", \"#00cc96\", \"#ab63fa\", \"#FFA15A\", \"#19d3f3\", \"#FF6692\", \"#B6E880\", \"#FF97FF\", \"#FECB52\"], \"font\": {\"color\": \"#2a3f5f\"}, \"geo\": {\"bgcolor\": \"white\", \"lakecolor\": \"white\", \"landcolor\": \"#E5ECF6\", \"showlakes\": true, \"showland\": true, \"subunitcolor\": \"white\"}, \"hoverlabel\": {\"align\": \"left\"}, \"hovermode\": \"closest\", \"mapbox\": {\"style\": \"light\"}, \"paper_bgcolor\": \"white\", \"plot_bgcolor\": \"#E5ECF6\", \"polar\": {\"angularaxis\": {\"gridcolor\": \"white\", \"linecolor\": \"white\", \"ticks\": \"\"}, \"bgcolor\": \"#E5ECF6\", \"radialaxis\": {\"gridcolor\": \"white\", \"linecolor\": \"white\", \"ticks\": \"\"}}, \"scene\": {\"xaxis\": {\"backgroundcolor\": \"#E5ECF6\", \"gridcolor\": \"white\", \"gridwidth\": 2, \"linecolor\": \"white\", \"showbackground\": true, \"ticks\": \"\", \"zerolinecolor\": \"white\"}, \"yaxis\": {\"backgroundcolor\": \"#E5ECF6\", \"gridcolor\": \"white\", \"gridwidth\": 2, \"linecolor\": \"white\", \"showbackground\": true, \"ticks\": \"\", \"zerolinecolor\": \"white\"}, \"zaxis\": {\"backgroundcolor\": \"#E5ECF6\", \"gridcolor\": \"white\", \"gridwidth\": 2, \"linecolor\": \"white\", \"showbackground\": true, \"ticks\": \"\", \"zerolinecolor\": \"white\"}}, \"shapedefaults\": {\"line\": {\"color\": \"#2a3f5f\"}}, \"ternary\": {\"aaxis\": {\"gridcolor\": \"white\", \"linecolor\": \"white\", \"ticks\": \"\"}, \"baxis\": {\"gridcolor\": \"white\", \"linecolor\": \"white\", \"ticks\": \"\"}, \"bgcolor\": \"#E5ECF6\", \"caxis\": {\"gridcolor\": \"white\", \"linecolor\": \"white\", \"ticks\": \"\"}}, \"title\": {\"x\": 0.05}, \"xaxis\": {\"automargin\": true, \"gridcolor\": \"white\", \"linecolor\": \"white\", \"ticks\": \"\", \"title\": {\"standoff\": 15}, \"zerolinecolor\": \"white\", \"zerolinewidth\": 2}, \"yaxis\": {\"automargin\": true, \"gridcolor\": \"white\", \"linecolor\": \"white\", \"ticks\": \"\", \"title\": {\"standoff\": 15}, \"zerolinecolor\": \"white\", \"zerolinewidth\": 2}}}, \"title\": {\"text\": \"Hyperparameter Importances\"}, \"xaxis\": {\"title\": {\"text\": \"Importance for Objective Value\"}}, \"yaxis\": {\"title\": {\"text\": \"Hyperparameter\"}}},\n",
              "                        {\"responsive\": true}\n",
              "                    ).then(function(){\n",
              "                            \n",
              "var gd = document.getElementById('0cf1b123-5835-4069-a44d-1adf315924ec');\n",
              "var x = new MutationObserver(function (mutations, observer) {{\n",
              "        var display = window.getComputedStyle(gd).display;\n",
              "        if (!display || display === 'none') {{\n",
              "            console.log([gd, 'removed!']);\n",
              "            Plotly.purge(gd);\n",
              "            observer.disconnect();\n",
              "        }}\n",
              "}});\n",
              "\n",
              "// Listen for the removal of the full notebook cells\n",
              "var notebookContainer = gd.closest('#notebook-container');\n",
              "if (notebookContainer) {{\n",
              "    x.observe(notebookContainer, {childList: true});\n",
              "}}\n",
              "\n",
              "// Listen for the clearing of the current output cell\n",
              "var outputEl = gd.closest('.output');\n",
              "if (outputEl) {{\n",
              "    x.observe(outputEl, {childList: true});\n",
              "}}\n",
              "\n",
              "                        })\n",
              "                };\n",
              "                \n",
              "            </script>\n",
              "        </div>\n",
              "</body>\n",
              "</html>"
            ]
          },
          "metadata": {
            "tags": []
          }
        }
      ]
    },
    {
      "cell_type": "code",
      "metadata": {
        "colab": {
          "base_uri": "https://localhost:8080/",
          "height": 542
        },
        "id": "YvRp7FBzPAMC",
        "outputId": "b35161d0-efd4-4f66-8f1e-194580915b4c"
      },
      "source": [
        "from optuna.visualization import plot_slice\n",
        "\n",
        "plot_slice(study, params=['learning_rate','dense_nlayers'])"
      ],
      "execution_count": null,
      "outputs": [
        {
          "output_type": "display_data",
          "data": {
            "text/html": [
              "<html>\n",
              "<head><meta charset=\"utf-8\" /></head>\n",
              "<body>\n",
              "    <div>\n",
              "            <script src=\"https://cdnjs.cloudflare.com/ajax/libs/mathjax/2.7.5/MathJax.js?config=TeX-AMS-MML_SVG\"></script><script type=\"text/javascript\">if (window.MathJax) {MathJax.Hub.Config({SVG: {font: \"STIX-Web\"}});}</script>\n",
              "                <script type=\"text/javascript\">window.PlotlyConfig = {MathJaxConfig: 'local'};</script>\n",
              "        <script src=\"https://cdn.plot.ly/plotly-latest.min.js\"></script>    \n",
              "            <div id=\"458f7d44-0443-434d-81e0-8e166e6964d6\" class=\"plotly-graph-div\" style=\"height:525px; width:100%;\"></div>\n",
              "            <script type=\"text/javascript\">\n",
              "                \n",
              "                    window.PLOTLYENV=window.PLOTLYENV || {};\n",
              "                    \n",
              "                if (document.getElementById(\"458f7d44-0443-434d-81e0-8e166e6964d6\")) {\n",
              "                    Plotly.newPlot(\n",
              "                        '458f7d44-0443-434d-81e0-8e166e6964d6',\n",
              "                        [{\"marker\": {\"color\": [0, 1, 2, 3, 4, 5, 6, 7, 8, 9, 10, 11, 12, 13, 14, 15, 16, 17, 18, 19, 20, 21, 22, 23, 24, 25, 26, 27, 28, 29, 30, 31, 32, 33, 34, 35, 36, 37, 38, 39], \"colorbar\": {\"title\": {\"text\": \"#Trials\"}, \"x\": 1.0, \"xpad\": 40}, \"colorscale\": [[0.0, \"rgb(247,251,255)\"], [0.125, \"rgb(222,235,247)\"], [0.25, \"rgb(198,219,239)\"], [0.375, \"rgb(158,202,225)\"], [0.5, \"rgb(107,174,214)\"], [0.625, \"rgb(66,146,198)\"], [0.75, \"rgb(33,113,181)\"], [0.875, \"rgb(8,81,156)\"], [1.0, \"rgb(8,48,107)\"]], \"line\": {\"color\": \"Grey\", \"width\": 0.5}, \"showscale\": true}, \"mode\": \"markers\", \"showlegend\": false, \"type\": \"scatter\", \"x\": [5, 2, 2, 3, 1, 1, 2, 4, 5, 3, 2, 2, 2, 1, 1, 1, 3, 1, 4, 2, 1, 1, 1, 2, 1, 2, 1, 2, 3, 1, 2, 1, 1, 1, 2, 1, 2, 1, 3, 2], \"xaxis\": \"x\", \"y\": [0.793833315372467, 0.8845000267028809, 0.909500002861023, 0.9075833559036255, 0.7883333563804626, 0.8619999885559082, 0.9086666703224182, 0.8984166383743286, 0.09858333319425583, 0.8414999842643738, 0.9127500057220459, 0.9144999980926514, 0.9106666445732117, 0.9169166684150696, 0.9131666421890259, 0.9127500057220459, 0.8641666769981384, 0.9104999899864197, 0.8954166769981384, 0.9083333611488342, 0.9041666388511658, 0.9129999876022339, 0.9109166860580444, 0.9119166731834412, 0.9137499928474426, 0.9034166932106018, 0.9042500257492065, 0.9035833477973938, 0.8793333172798157, 0.903333306312561, 0.9104999899864197, 0.9174166917800903, 0.9104166626930237, 0.9107499718666077, 0.9075000286102295, 0.9175833463668823, 0.9110000133514404, 0.8917499780654907, 0.903083324432373, 0.9111666679382324], \"yaxis\": \"y\"}, {\"marker\": {\"color\": [0, 1, 2, 3, 4, 5, 6, 7, 8, 9, 10, 11, 12, 13, 14, 15, 16, 17, 18, 19, 20, 21, 22, 23, 24, 25, 26, 27, 28, 29, 30, 31, 32, 33, 34, 35, 36, 37, 38, 39], \"colorbar\": {\"title\": {\"text\": \"#Trials\"}, \"x\": 1.0, \"xpad\": 40}, \"colorscale\": [[0.0, \"rgb(247,251,255)\"], [0.125, \"rgb(222,235,247)\"], [0.25, \"rgb(198,219,239)\"], [0.375, \"rgb(158,202,225)\"], [0.5, \"rgb(107,174,214)\"], [0.625, \"rgb(66,146,198)\"], [0.75, \"rgb(33,113,181)\"], [0.875, \"rgb(8,81,156)\"], [1.0, \"rgb(8,48,107)\"]], \"line\": {\"color\": \"Grey\", \"width\": 0.5}, \"showscale\": false}, \"mode\": \"markers\", \"showlegend\": false, \"type\": \"scatter\", \"x\": [0.007539959481430592, 0.00011480658661518222, 0.00270529165822813, 0.0005549802747547173, 0.04921481130986472, 0.005584386131363661, 0.0002892177243014543, 0.00021630334981560288, 0.026334848600674372, 0.013972081313321937, 0.0018288854961329255, 0.001343884848321479, 0.0014659037439117952, 0.001092537898600718, 0.00096810422848757, 0.0006972846069528961, 0.0044021312529238955, 0.00036279092857442345, 0.00010837594068478231, 0.0013164669057618126, 0.002704094818049243, 0.0008890945449834435, 0.0009752838227103027, 0.0005330489547987223, 0.0023101714010811064, 0.007946262142632218, 0.0020220254346142146, 0.004460798211257129, 0.011484580055242001, 0.0030330084049613694, 0.00022259616742495002, 0.0011237589940639597, 0.0012934447241283696, 0.0004663225395291217, 0.002213174594739588, 0.0008354864372338639, 0.0007158745689143175, 0.0001741701578849235, 0.0003587376687916145, 0.001212407605935974], \"xaxis\": \"x2\", \"y\": [0.793833315372467, 0.8845000267028809, 0.909500002861023, 0.9075833559036255, 0.7883333563804626, 0.8619999885559082, 0.9086666703224182, 0.8984166383743286, 0.09858333319425583, 0.8414999842643738, 0.9127500057220459, 0.9144999980926514, 0.9106666445732117, 0.9169166684150696, 0.9131666421890259, 0.9127500057220459, 0.8641666769981384, 0.9104999899864197, 0.8954166769981384, 0.9083333611488342, 0.9041666388511658, 0.9129999876022339, 0.9109166860580444, 0.9119166731834412, 0.9137499928474426, 0.9034166932106018, 0.9042500257492065, 0.9035833477973938, 0.8793333172798157, 0.903333306312561, 0.9104999899864197, 0.9174166917800903, 0.9104166626930237, 0.9107499718666077, 0.9075000286102295, 0.9175833463668823, 0.9110000133514404, 0.8917499780654907, 0.903083324432373, 0.9111666679382324], \"yaxis\": \"y2\"}],\n",
              "                        {\"template\": {\"data\": {\"bar\": [{\"error_x\": {\"color\": \"#2a3f5f\"}, \"error_y\": {\"color\": \"#2a3f5f\"}, \"marker\": {\"line\": {\"color\": \"#E5ECF6\", \"width\": 0.5}}, \"type\": \"bar\"}], \"barpolar\": [{\"marker\": {\"line\": {\"color\": \"#E5ECF6\", \"width\": 0.5}}, \"type\": \"barpolar\"}], \"carpet\": [{\"aaxis\": {\"endlinecolor\": \"#2a3f5f\", \"gridcolor\": \"white\", \"linecolor\": \"white\", \"minorgridcolor\": \"white\", \"startlinecolor\": \"#2a3f5f\"}, \"baxis\": {\"endlinecolor\": \"#2a3f5f\", \"gridcolor\": \"white\", \"linecolor\": \"white\", \"minorgridcolor\": \"white\", \"startlinecolor\": \"#2a3f5f\"}, \"type\": \"carpet\"}], \"choropleth\": [{\"colorbar\": {\"outlinewidth\": 0, \"ticks\": \"\"}, \"type\": \"choropleth\"}], \"contour\": [{\"colorbar\": {\"outlinewidth\": 0, \"ticks\": \"\"}, \"colorscale\": [[0.0, \"#0d0887\"], [0.1111111111111111, \"#46039f\"], [0.2222222222222222, \"#7201a8\"], [0.3333333333333333, \"#9c179e\"], [0.4444444444444444, \"#bd3786\"], [0.5555555555555556, \"#d8576b\"], [0.6666666666666666, \"#ed7953\"], [0.7777777777777778, \"#fb9f3a\"], [0.8888888888888888, \"#fdca26\"], [1.0, \"#f0f921\"]], \"type\": \"contour\"}], \"contourcarpet\": [{\"colorbar\": {\"outlinewidth\": 0, \"ticks\": \"\"}, \"type\": \"contourcarpet\"}], \"heatmap\": [{\"colorbar\": {\"outlinewidth\": 0, \"ticks\": \"\"}, \"colorscale\": [[0.0, \"#0d0887\"], [0.1111111111111111, \"#46039f\"], [0.2222222222222222, \"#7201a8\"], [0.3333333333333333, \"#9c179e\"], [0.4444444444444444, \"#bd3786\"], [0.5555555555555556, \"#d8576b\"], [0.6666666666666666, \"#ed7953\"], [0.7777777777777778, \"#fb9f3a\"], [0.8888888888888888, \"#fdca26\"], [1.0, \"#f0f921\"]], \"type\": \"heatmap\"}], \"heatmapgl\": [{\"colorbar\": {\"outlinewidth\": 0, \"ticks\": \"\"}, \"colorscale\": [[0.0, \"#0d0887\"], [0.1111111111111111, \"#46039f\"], [0.2222222222222222, \"#7201a8\"], [0.3333333333333333, \"#9c179e\"], [0.4444444444444444, \"#bd3786\"], [0.5555555555555556, \"#d8576b\"], [0.6666666666666666, \"#ed7953\"], [0.7777777777777778, \"#fb9f3a\"], [0.8888888888888888, \"#fdca26\"], [1.0, \"#f0f921\"]], \"type\": \"heatmapgl\"}], \"histogram\": [{\"marker\": {\"colorbar\": {\"outlinewidth\": 0, \"ticks\": \"\"}}, \"type\": \"histogram\"}], \"histogram2d\": [{\"colorbar\": {\"outlinewidth\": 0, \"ticks\": \"\"}, \"colorscale\": [[0.0, \"#0d0887\"], [0.1111111111111111, \"#46039f\"], [0.2222222222222222, \"#7201a8\"], [0.3333333333333333, \"#9c179e\"], [0.4444444444444444, \"#bd3786\"], [0.5555555555555556, \"#d8576b\"], [0.6666666666666666, \"#ed7953\"], [0.7777777777777778, \"#fb9f3a\"], [0.8888888888888888, \"#fdca26\"], [1.0, \"#f0f921\"]], \"type\": \"histogram2d\"}], \"histogram2dcontour\": [{\"colorbar\": {\"outlinewidth\": 0, \"ticks\": \"\"}, \"colorscale\": [[0.0, \"#0d0887\"], [0.1111111111111111, \"#46039f\"], [0.2222222222222222, \"#7201a8\"], [0.3333333333333333, \"#9c179e\"], [0.4444444444444444, \"#bd3786\"], [0.5555555555555556, \"#d8576b\"], [0.6666666666666666, \"#ed7953\"], [0.7777777777777778, \"#fb9f3a\"], [0.8888888888888888, \"#fdca26\"], [1.0, \"#f0f921\"]], \"type\": \"histogram2dcontour\"}], \"mesh3d\": [{\"colorbar\": {\"outlinewidth\": 0, \"ticks\": \"\"}, \"type\": \"mesh3d\"}], \"parcoords\": [{\"line\": {\"colorbar\": {\"outlinewidth\": 0, \"ticks\": \"\"}}, \"type\": \"parcoords\"}], \"pie\": [{\"automargin\": true, \"type\": \"pie\"}], \"scatter\": [{\"marker\": {\"colorbar\": {\"outlinewidth\": 0, \"ticks\": \"\"}}, \"type\": \"scatter\"}], \"scatter3d\": [{\"line\": {\"colorbar\": {\"outlinewidth\": 0, \"ticks\": \"\"}}, \"marker\": {\"colorbar\": {\"outlinewidth\": 0, \"ticks\": \"\"}}, \"type\": \"scatter3d\"}], \"scattercarpet\": [{\"marker\": {\"colorbar\": {\"outlinewidth\": 0, \"ticks\": \"\"}}, \"type\": \"scattercarpet\"}], \"scattergeo\": [{\"marker\": {\"colorbar\": {\"outlinewidth\": 0, \"ticks\": \"\"}}, \"type\": \"scattergeo\"}], \"scattergl\": [{\"marker\": {\"colorbar\": {\"outlinewidth\": 0, \"ticks\": \"\"}}, \"type\": \"scattergl\"}], \"scattermapbox\": [{\"marker\": {\"colorbar\": {\"outlinewidth\": 0, \"ticks\": \"\"}}, \"type\": \"scattermapbox\"}], \"scatterpolar\": [{\"marker\": {\"colorbar\": {\"outlinewidth\": 0, \"ticks\": \"\"}}, \"type\": \"scatterpolar\"}], \"scatterpolargl\": [{\"marker\": {\"colorbar\": {\"outlinewidth\": 0, \"ticks\": \"\"}}, \"type\": \"scatterpolargl\"}], \"scatterternary\": [{\"marker\": {\"colorbar\": {\"outlinewidth\": 0, \"ticks\": \"\"}}, \"type\": \"scatterternary\"}], \"surface\": [{\"colorbar\": {\"outlinewidth\": 0, \"ticks\": \"\"}, \"colorscale\": [[0.0, \"#0d0887\"], [0.1111111111111111, \"#46039f\"], [0.2222222222222222, \"#7201a8\"], [0.3333333333333333, \"#9c179e\"], [0.4444444444444444, \"#bd3786\"], [0.5555555555555556, \"#d8576b\"], [0.6666666666666666, \"#ed7953\"], [0.7777777777777778, \"#fb9f3a\"], [0.8888888888888888, \"#fdca26\"], [1.0, \"#f0f921\"]], \"type\": \"surface\"}], \"table\": [{\"cells\": {\"fill\": {\"color\": \"#EBF0F8\"}, \"line\": {\"color\": \"white\"}}, \"header\": {\"fill\": {\"color\": \"#C8D4E3\"}, \"line\": {\"color\": \"white\"}}, \"type\": \"table\"}]}, \"layout\": {\"annotationdefaults\": {\"arrowcolor\": \"#2a3f5f\", \"arrowhead\": 0, \"arrowwidth\": 1}, \"coloraxis\": {\"colorbar\": {\"outlinewidth\": 0, \"ticks\": \"\"}}, \"colorscale\": {\"diverging\": [[0, \"#8e0152\"], [0.1, \"#c51b7d\"], [0.2, \"#de77ae\"], [0.3, \"#f1b6da\"], [0.4, \"#fde0ef\"], [0.5, \"#f7f7f7\"], [0.6, \"#e6f5d0\"], [0.7, \"#b8e186\"], [0.8, \"#7fbc41\"], [0.9, \"#4d9221\"], [1, \"#276419\"]], \"sequential\": [[0.0, \"#0d0887\"], [0.1111111111111111, \"#46039f\"], [0.2222222222222222, \"#7201a8\"], [0.3333333333333333, \"#9c179e\"], [0.4444444444444444, \"#bd3786\"], [0.5555555555555556, \"#d8576b\"], [0.6666666666666666, \"#ed7953\"], [0.7777777777777778, \"#fb9f3a\"], [0.8888888888888888, \"#fdca26\"], [1.0, \"#f0f921\"]], \"sequentialminus\": [[0.0, \"#0d0887\"], [0.1111111111111111, \"#46039f\"], [0.2222222222222222, \"#7201a8\"], [0.3333333333333333, \"#9c179e\"], [0.4444444444444444, \"#bd3786\"], [0.5555555555555556, \"#d8576b\"], [0.6666666666666666, \"#ed7953\"], [0.7777777777777778, \"#fb9f3a\"], [0.8888888888888888, \"#fdca26\"], [1.0, \"#f0f921\"]]}, \"colorway\": [\"#636efa\", \"#EF553B\", \"#00cc96\", \"#ab63fa\", \"#FFA15A\", \"#19d3f3\", \"#FF6692\", \"#B6E880\", \"#FF97FF\", \"#FECB52\"], \"font\": {\"color\": \"#2a3f5f\"}, \"geo\": {\"bgcolor\": \"white\", \"lakecolor\": \"white\", \"landcolor\": \"#E5ECF6\", \"showlakes\": true, \"showland\": true, \"subunitcolor\": \"white\"}, \"hoverlabel\": {\"align\": \"left\"}, \"hovermode\": \"closest\", \"mapbox\": {\"style\": \"light\"}, \"paper_bgcolor\": \"white\", \"plot_bgcolor\": \"#E5ECF6\", \"polar\": {\"angularaxis\": {\"gridcolor\": \"white\", \"linecolor\": \"white\", \"ticks\": \"\"}, \"bgcolor\": \"#E5ECF6\", \"radialaxis\": {\"gridcolor\": \"white\", \"linecolor\": \"white\", \"ticks\": \"\"}}, \"scene\": {\"xaxis\": {\"backgroundcolor\": \"#E5ECF6\", \"gridcolor\": \"white\", \"gridwidth\": 2, \"linecolor\": \"white\", \"showbackground\": true, \"ticks\": \"\", \"zerolinecolor\": \"white\"}, \"yaxis\": {\"backgroundcolor\": \"#E5ECF6\", \"gridcolor\": \"white\", \"gridwidth\": 2, \"linecolor\": \"white\", \"showbackground\": true, \"ticks\": \"\", \"zerolinecolor\": \"white\"}, \"zaxis\": {\"backgroundcolor\": \"#E5ECF6\", \"gridcolor\": \"white\", \"gridwidth\": 2, \"linecolor\": \"white\", \"showbackground\": true, \"ticks\": \"\", \"zerolinecolor\": \"white\"}}, \"shapedefaults\": {\"line\": {\"color\": \"#2a3f5f\"}}, \"ternary\": {\"aaxis\": {\"gridcolor\": \"white\", \"linecolor\": \"white\", \"ticks\": \"\"}, \"baxis\": {\"gridcolor\": \"white\", \"linecolor\": \"white\", \"ticks\": \"\"}, \"bgcolor\": \"#E5ECF6\", \"caxis\": {\"gridcolor\": \"white\", \"linecolor\": \"white\", \"ticks\": \"\"}}, \"title\": {\"x\": 0.05}, \"xaxis\": {\"automargin\": true, \"gridcolor\": \"white\", \"linecolor\": \"white\", \"ticks\": \"\", \"title\": {\"standoff\": 15}, \"zerolinecolor\": \"white\", \"zerolinewidth\": 2}, \"yaxis\": {\"automargin\": true, \"gridcolor\": \"white\", \"linecolor\": \"white\", \"ticks\": \"\", \"title\": {\"standoff\": 15}, \"zerolinecolor\": \"white\", \"zerolinewidth\": 2}}}, \"title\": {\"text\": \"Slice Plot\"}, \"xaxis\": {\"anchor\": \"y\", \"domain\": [0.0, 0.45], \"title\": {\"text\": \"dense_nlayers\"}}, \"xaxis2\": {\"anchor\": \"y2\", \"domain\": [0.55, 1.0], \"title\": {\"text\": \"learning_rate\"}, \"type\": \"log\"}, \"yaxis\": {\"anchor\": \"x\", \"domain\": [0.0, 1.0], \"title\": {\"text\": \"Objective Value\"}}, \"yaxis2\": {\"anchor\": \"x2\", \"domain\": [0.0, 1.0], \"matches\": \"y\", \"showticklabels\": false}},\n",
              "                        {\"responsive\": true}\n",
              "                    ).then(function(){\n",
              "                            \n",
              "var gd = document.getElementById('458f7d44-0443-434d-81e0-8e166e6964d6');\n",
              "var x = new MutationObserver(function (mutations, observer) {{\n",
              "        var display = window.getComputedStyle(gd).display;\n",
              "        if (!display || display === 'none') {{\n",
              "            console.log([gd, 'removed!']);\n",
              "            Plotly.purge(gd);\n",
              "            observer.disconnect();\n",
              "        }}\n",
              "}});\n",
              "\n",
              "// Listen for the removal of the full notebook cells\n",
              "var notebookContainer = gd.closest('#notebook-container');\n",
              "if (notebookContainer) {{\n",
              "    x.observe(notebookContainer, {childList: true});\n",
              "}}\n",
              "\n",
              "// Listen for the clearing of the current output cell\n",
              "var outputEl = gd.closest('.output');\n",
              "if (outputEl) {{\n",
              "    x.observe(outputEl, {childList: true});\n",
              "}}\n",
              "\n",
              "                        })\n",
              "                };\n",
              "                \n",
              "            </script>\n",
              "        </div>\n",
              "</body>\n",
              "</html>"
            ]
          },
          "metadata": {
            "tags": []
          }
        }
      ]
    },
    {
      "cell_type": "code",
      "metadata": {
        "colab": {
          "base_uri": "https://localhost:8080/"
        },
        "id": "rcrJqPZSTGw4",
        "outputId": "829348a6-e9bf-4701-956f-4129aeee776c"
      },
      "source": [
        "study.best_value"
      ],
      "execution_count": null,
      "outputs": [
        {
          "output_type": "execute_result",
          "data": {
            "text/plain": [
              "0.9175833463668823"
            ]
          },
          "metadata": {
            "tags": []
          },
          "execution_count": 19
        }
      ]
    },
    {
      "cell_type": "code",
      "metadata": {
        "colab": {
          "base_uri": "https://localhost:8080/",
          "height": 309
        },
        "id": "0BTY-87kT6R2",
        "outputId": "671b0f68-13bc-4848-99e7-7c313010739d"
      },
      "source": [
        "study.trials_dataframe().sort_values('value',ascending=False).head()"
      ],
      "execution_count": null,
      "outputs": [
        {
          "output_type": "execute_result",
          "data": {
            "text/html": [
              "<div>\n",
              "<style scoped>\n",
              "    .dataframe tbody tr th:only-of-type {\n",
              "        vertical-align: middle;\n",
              "    }\n",
              "\n",
              "    .dataframe tbody tr th {\n",
              "        vertical-align: top;\n",
              "    }\n",
              "\n",
              "    .dataframe thead th {\n",
              "        text-align: right;\n",
              "    }\n",
              "</style>\n",
              "<table border=\"1\" class=\"dataframe\">\n",
              "  <thead>\n",
              "    <tr style=\"text-align: right;\">\n",
              "      <th></th>\n",
              "      <th>number</th>\n",
              "      <th>value</th>\n",
              "      <th>datetime_start</th>\n",
              "      <th>datetime_complete</th>\n",
              "      <th>duration</th>\n",
              "      <th>params_conv_1_filter</th>\n",
              "      <th>params_conv_1_kernel</th>\n",
              "      <th>params_dense_0_units</th>\n",
              "      <th>params_dense_1_units</th>\n",
              "      <th>params_dense_2_units</th>\n",
              "      <th>params_dense_3_units</th>\n",
              "      <th>params_dense_4_units</th>\n",
              "      <th>params_dense_activation</th>\n",
              "      <th>params_dense_nlayers</th>\n",
              "      <th>params_dropout_0_rate</th>\n",
              "      <th>params_dropout_1_rate</th>\n",
              "      <th>params_dropout_2_rate</th>\n",
              "      <th>params_dropout_3_rate</th>\n",
              "      <th>params_dropout_4_rate</th>\n",
              "      <th>params_learning_rate</th>\n",
              "      <th>state</th>\n",
              "    </tr>\n",
              "  </thead>\n",
              "  <tbody>\n",
              "    <tr>\n",
              "      <th>35</th>\n",
              "      <td>35</td>\n",
              "      <td>0.917583</td>\n",
              "      <td>2021-05-11 07:06:59.459005</td>\n",
              "      <td>2021-05-11 07:07:26.086632</td>\n",
              "      <td>0 days 00:00:26.627627</td>\n",
              "      <td>128</td>\n",
              "      <td>3</td>\n",
              "      <td>130</td>\n",
              "      <td>NaN</td>\n",
              "      <td>NaN</td>\n",
              "      <td>NaN</td>\n",
              "      <td>NaN</td>\n",
              "      <td>elu</td>\n",
              "      <td>1</td>\n",
              "      <td>0.276725</td>\n",
              "      <td>NaN</td>\n",
              "      <td>NaN</td>\n",
              "      <td>NaN</td>\n",
              "      <td>NaN</td>\n",
              "      <td>0.000835</td>\n",
              "      <td>COMPLETE</td>\n",
              "    </tr>\n",
              "    <tr>\n",
              "      <th>31</th>\n",
              "      <td>31</td>\n",
              "      <td>0.917417</td>\n",
              "      <td>2021-05-11 07:05:47.920893</td>\n",
              "      <td>2021-05-11 07:06:13.569748</td>\n",
              "      <td>0 days 00:00:25.648855</td>\n",
              "      <td>128</td>\n",
              "      <td>3</td>\n",
              "      <td>121</td>\n",
              "      <td>NaN</td>\n",
              "      <td>NaN</td>\n",
              "      <td>NaN</td>\n",
              "      <td>NaN</td>\n",
              "      <td>elu</td>\n",
              "      <td>1</td>\n",
              "      <td>0.217993</td>\n",
              "      <td>NaN</td>\n",
              "      <td>NaN</td>\n",
              "      <td>NaN</td>\n",
              "      <td>NaN</td>\n",
              "      <td>0.001124</td>\n",
              "      <td>COMPLETE</td>\n",
              "    </tr>\n",
              "    <tr>\n",
              "      <th>13</th>\n",
              "      <td>13</td>\n",
              "      <td>0.916917</td>\n",
              "      <td>2021-05-11 06:57:44.773449</td>\n",
              "      <td>2021-05-11 06:58:08.981662</td>\n",
              "      <td>0 days 00:00:24.208213</td>\n",
              "      <td>128</td>\n",
              "      <td>3</td>\n",
              "      <td>139</td>\n",
              "      <td>NaN</td>\n",
              "      <td>NaN</td>\n",
              "      <td>NaN</td>\n",
              "      <td>NaN</td>\n",
              "      <td>tanh</td>\n",
              "      <td>1</td>\n",
              "      <td>0.239022</td>\n",
              "      <td>NaN</td>\n",
              "      <td>NaN</td>\n",
              "      <td>NaN</td>\n",
              "      <td>NaN</td>\n",
              "      <td>0.001093</td>\n",
              "      <td>COMPLETE</td>\n",
              "    </tr>\n",
              "    <tr>\n",
              "      <th>11</th>\n",
              "      <td>11</td>\n",
              "      <td>0.914500</td>\n",
              "      <td>2021-05-11 06:56:48.332566</td>\n",
              "      <td>2021-05-11 06:57:15.892668</td>\n",
              "      <td>0 days 00:00:27.560102</td>\n",
              "      <td>128</td>\n",
              "      <td>3</td>\n",
              "      <td>164</td>\n",
              "      <td>16.0</td>\n",
              "      <td>NaN</td>\n",
              "      <td>NaN</td>\n",
              "      <td>NaN</td>\n",
              "      <td>tanh</td>\n",
              "      <td>2</td>\n",
              "      <td>0.233739</td>\n",
              "      <td>0.26146</td>\n",
              "      <td>NaN</td>\n",
              "      <td>NaN</td>\n",
              "      <td>NaN</td>\n",
              "      <td>0.001344</td>\n",
              "      <td>COMPLETE</td>\n",
              "    </tr>\n",
              "    <tr>\n",
              "      <th>24</th>\n",
              "      <td>24</td>\n",
              "      <td>0.913750</td>\n",
              "      <td>2021-05-11 07:03:37.508569</td>\n",
              "      <td>2021-05-11 07:03:57.290539</td>\n",
              "      <td>0 days 00:00:19.781970</td>\n",
              "      <td>128</td>\n",
              "      <td>3</td>\n",
              "      <td>198</td>\n",
              "      <td>NaN</td>\n",
              "      <td>NaN</td>\n",
              "      <td>NaN</td>\n",
              "      <td>NaN</td>\n",
              "      <td>elu</td>\n",
              "      <td>1</td>\n",
              "      <td>0.194230</td>\n",
              "      <td>NaN</td>\n",
              "      <td>NaN</td>\n",
              "      <td>NaN</td>\n",
              "      <td>NaN</td>\n",
              "      <td>0.002310</td>\n",
              "      <td>COMPLETE</td>\n",
              "    </tr>\n",
              "  </tbody>\n",
              "</table>\n",
              "</div>"
            ],
            "text/plain": [
              "    number     value  ... params_learning_rate     state\n",
              "35      35  0.917583  ...             0.000835  COMPLETE\n",
              "31      31  0.917417  ...             0.001124  COMPLETE\n",
              "13      13  0.916917  ...             0.001093  COMPLETE\n",
              "11      11  0.914500  ...             0.001344  COMPLETE\n",
              "24      24  0.913750  ...             0.002310  COMPLETE\n",
              "\n",
              "[5 rows x 21 columns]"
            ]
          },
          "metadata": {
            "tags": []
          },
          "execution_count": 26
        }
      ]
    },
    {
      "cell_type": "code",
      "metadata": {
        "colab": {
          "base_uri": "https://localhost:8080/"
        },
        "id": "SHqHpPYvT702",
        "outputId": "05317dd3-1ecb-4007-ecc0-d424b878bc2d"
      },
      "source": [
        "objective(study.best_trial)"
      ],
      "execution_count": null,
      "outputs": [
        {
          "output_type": "execute_result",
          "data": {
            "text/plain": [
              "0.9175000190734863"
            ]
          },
          "metadata": {
            "tags": []
          },
          "execution_count": 28
        }
      ]
    },
    {
      "cell_type": "code",
      "metadata": {
        "colab": {
          "base_uri": "https://localhost:8080/"
        },
        "id": "e5GzfOG0U_S-",
        "outputId": "5d3935e1-fc88-4aa1-8111-267910b20338"
      },
      "source": [
        "objective(study.best_trial)"
      ],
      "execution_count": null,
      "outputs": [
        {
          "output_type": "execute_result",
          "data": {
            "text/plain": [
              "0.9035000205039978"
            ]
          },
          "metadata": {
            "tags": []
          },
          "execution_count": 29
        }
      ]
    },
    {
      "cell_type": "code",
      "metadata": {
        "id": "9YwhM_nyVQ8c"
      },
      "source": [
        ""
      ],
      "execution_count": null,
      "outputs": []
    }
  ]
}