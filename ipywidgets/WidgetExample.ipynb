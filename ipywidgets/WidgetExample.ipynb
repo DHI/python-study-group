{
 "cells": [
  {
   "cell_type": "code",
   "execution_count": null,
   "id": "faf72899-a387-4639-b790-08f0f66cf6eb",
   "metadata": {},
   "outputs": [],
   "source": [
    "import os\n",
    "import pandas as pd\n",
    "import numpy as np\n",
    "import matplotlib.pyplot as plt\n",
    "\n",
    "# jupyter magic. The module ipympl enables interactive matplotlib plots in ipywidgets, on a jupyter backend.\n",
    "%matplotlib widget\n",
    "\n",
    "import ipywidgets as widgets"
   ]
  },
  {
   "cell_type": "markdown",
   "id": "7cd47880-5293-4efa-820c-1c5ab4661dbc",
   "metadata": {},
   "source": [
    "# Create some data"
   ]
  },
  {
   "cell_type": "code",
   "execution_count": null,
   "id": "4642e9dc-8c80-4aa5-906e-8e27f3ab4f01",
   "metadata": {},
   "outputs": [],
   "source": [
    "class MySine:\n",
    "    def __init__(self, amplitude=1, frequency=1, phase=0):\n",
    "        self.amplitude = amplitude\n",
    "        self.frequency = frequency\n",
    "        self.phase = phase\n",
    "    \n",
    "    def compute(self, series):\n",
    "        \n",
    "        return pd.Series(\n",
    "            data=self.amplitude*np.sin(self.frequency*2*np.pi*series + self.phase),\n",
    "            index = series\n",
    "        )"
   ]
  },
  {
   "cell_type": "code",
   "execution_count": null,
   "id": "52deca7e-ee5e-4528-afda-4bc8243816f7",
   "metadata": {},
   "outputs": [],
   "source": [
    "# GENERATE APRIORI DATA.\n",
    "ran = np.arange(0, 100, 0.1)\n",
    "mysine = MySine()\n",
    "data = mysine.compute(ran)"
   ]
  },
  {
   "cell_type": "markdown",
   "id": "c367f3ec-c23f-4460-bd46-703ecf2f86ff",
   "metadata": {},
   "source": [
    "# Make a widget"
   ]
  },
  {
   "cell_type": "code",
   "execution_count": null,
   "id": "c6076f03-22e7-4a63-8ca5-4e42786a6ecf",
   "metadata": {},
   "outputs": [],
   "source": [
    "# CREATE PLOT\n",
    "plt.ioff()\n",
    "fig = plt.figure(figsize=(6,4))\n",
    "fig.canvas.header_visible = False\n",
    "ax1 = plt.subplot2grid(shape=(1,1), loc=(0,0), colspan=1, rowspan=1)\n",
    "line_obs = ax1.plot(data, label='wave')\n",
    "ax1.set_xlabel(xlabel='time (days)')\n",
    "ax1.set_ylabel(ylabel='values')\n",
    "ax1.tick_params(axis='x')\n",
    "ax1.legend(loc='lower right')\n",
    "ax1.grid()\n",
    "ax1.set_title(f'Interactive Anomaly Detection')\n",
    "ax1.set_xlim(left=min(data.index), right=max(data.index))\n",
    "ax1.set_ylim(bottom=-8, top=8)\n",
    "\n",
    "fig.tight_layout()\n",
    "plt.subplots_adjust(bottom=0.15)\n",
    "\n",
    "# CREATE WIDGET ELEMENTS.\n",
    "a_slider = widgets.FloatSlider(\n",
    "    orientation='horizontal',\n",
    "    description='Amplitude:',\n",
    "    value=1,\n",
    "    min=0.01,\n",
    "    max=5,\n",
    "    step=0.01    \n",
    ")\n",
    "\n",
    "f_slider = widgets.FloatSlider(\n",
    "    orientation='horizontal',\n",
    "    description='Frequency:',\n",
    "    value=1,\n",
    "    min=0.01,\n",
    "    max=2,\n",
    "    step=0.01    \n",
    ")\n",
    "\n",
    "# CREATE ACTIONS.\n",
    "def amplitude_update(change):\n",
    "    mysine.amplitude = change.new\n",
    "    update_ax1(mysine.compute(ran))\n",
    "    \n",
    "def frequency_update(change):\n",
    "    mysine.frequency = change.new\n",
    "    update_ax1(mysine.compute(ran))\n",
    "\n",
    "# ACTION UPDATE AXES.\n",
    "def update_ax1(data):\n",
    "    line_obs[0].set_data(data.index, data)\n",
    "    fig.canvas.draw()\n",
    "    fig.canvas.flush_events()\n",
    "    \n",
    "# CONNECT ACTIONS TO GADGETS.\n",
    "a_slider.observe(amplitude_update, names='value')\n",
    "f_slider.observe(frequency_update, names='value')\n",
    "\n",
    "# CREATE APPLICATION.\n",
    "grid = widgets.GridspecLayout(12, 12)\n",
    "grid[0,:5] = a_slider\n",
    "grid[0,6:10] = f_slider\n",
    "grid[1:,1:] = fig.canvas"
   ]
  },
  {
   "cell_type": "markdown",
   "id": "5e4c0aa6-a50a-434d-b1d2-7bd23e7e4981",
   "metadata": {},
   "source": [
    "# Deploy the widget"
   ]
  },
  {
   "cell_type": "code",
   "execution_count": null,
   "id": "e7043a35-8d96-4114-92d2-de05a1ef0481",
   "metadata": {},
   "outputs": [],
   "source": [
    "# LAUNCH APPLICATION.\n",
    "grid"
   ]
  }
 ],
 "metadata": {
  "kernelspec": {
   "display_name": "Python 3 (ipykernel)",
   "language": "python",
   "name": "python3"
  },
  "language_info": {
   "codemirror_mode": {
    "name": "ipython",
    "version": 3
   },
   "file_extension": ".py",
   "mimetype": "text/x-python",
   "name": "python",
   "nbconvert_exporter": "python",
   "pygments_lexer": "ipython3",
   "version": "3.9.6"
  }
 },
 "nbformat": 4,
 "nbformat_minor": 5
}
