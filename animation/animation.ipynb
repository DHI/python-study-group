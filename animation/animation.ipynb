{
 "cells": [
  {
   "cell_type": "markdown",
   "metadata": {},
   "source": [
    "Anne Katrine Falk 11OCT2021\n",
    "# Animation with matplotlib\n",
    "This notebook demonstrates how to \n",
    "\n",
    "- create plots with animations - with three ways of generating the frames \n",
    "- save the animations\n",
    "- display animation as web content (html5)"
   ]
  },
  {
   "cell_type": "code",
   "execution_count": 1,
   "metadata": {},
   "outputs": [
    {
     "data": {
      "text/html": [
       "<style>.container {width:95% !important;}</style>"
      ],
      "text/plain": [
       "<IPython.core.display.HTML object>"
      ]
     },
     "metadata": {},
     "output_type": "display_data"
    }
   ],
   "source": [
    "# Make cell width follow the width of the window\n",
    "from IPython.core.display import display, HTML\n",
    "display(HTML(\"<style>.container {width:95% !important;}</style>\"))"
   ]
  },
  {
   "cell_type": "markdown",
   "metadata": {},
   "source": [
    "# Import dependencies"
   ]
  },
  {
   "cell_type": "code",
   "execution_count": 2,
   "metadata": {},
   "outputs": [
    {
     "name": "stdout",
     "output_type": "stream",
     "text": [
      "matplotlib version: 3.3.2\n",
      "numpy version: 1.20.2\n",
      "pandas version: 1.1.4\n"
     ]
    }
   ],
   "source": [
    "from datetime import datetime\n",
    "# animations don't show when using inline or notebook\n",
    "#%matplotlib inline\n",
    "#%matplotlib notebook\n",
    "%matplotlib qt\n",
    "import matplotlib\n",
    "import matplotlib.pyplot as plt\n",
    "import matplotlib.animation as animation\n",
    "import numpy as np\n",
    "import pandas as pd\n",
    "import os\n",
    "\n",
    "print(\"matplotlib version: \" + matplotlib.__version__)\n",
    "print(\"numpy version: \" + np.__version__)\n",
    "print(\"pandas version: \" + pd.__version__)"
   ]
  },
  {
   "cell_type": "markdown",
   "metadata": {},
   "source": [
    "# Generate some data for animation\n",
    "Most tutorials I have seen use on-the-fly-generated data. This way, they can obtain a light-weight demonstration, where the \"incoming\" data is generated as a part of the function which updates the figure. For visualising progressing forecasts we need a flow that _gets the data from somewhere else_. So we start by creating some data, which is persisted in (csv)-files.\n",
    "The data emulates a 24h forecast, generated once an hour. The forecast is a sine, with some random noise added. Each csv-file includes 24 time steps."
   ]
  },
  {
   "cell_type": "code",
   "execution_count": 3,
   "metadata": {},
   "outputs": [],
   "source": [
    "def make_noisy_sine():\n",
    "    \"\"\"\n",
    "    Make one sine wave with a period of 24, and add random noise\n",
    "    \"\"\"\n",
    "    x = np.arange(0,24)\n",
    "    clean_sin = np.sin(2.*np.pi/24.*x)\n",
    "    noisy_sin = clean_sin + (np.random.rand(24)-0.5)\n",
    "    return noisy_sin"
   ]
  },
  {
   "cell_type": "code",
   "execution_count": 4,
   "metadata": {},
   "outputs": [],
   "source": [
    "def generate_data_files(n):\n",
    "    \"\"\"\n",
    "    For each of the n forecasts:\n",
    "        create a dataframe with time stamps as index and noisy_sine as values and save as csv.\n",
    "    Time step in data file is one hour.\n",
    "    Time between forecasts is one hour.\n",
    "    \"\"\"\n",
    "    start_date = pd.Timestamp('2021-10-10 00')\n",
    "    for i in range(n):\n",
    "        data = make_noisy_sine()\n",
    "        index = pd.date_range(start=start_date, periods = len(data), freq='H')\n",
    "        df = pd.DataFrame(index=index, data=data, columns=['values'])  \n",
    "        file_name = start_date.strftime(\"%Y-%m-%d_%H\")\n",
    "        file_path = os.path.join(\".\", \"data\", f\"{file_name}.csv\")\n",
    "        df.to_csv(file_path)\n",
    "        \n",
    "        start_date = start_date + pd.Timedelta('1H')"
   ]
  },
  {
   "cell_type": "markdown",
   "metadata": {},
   "source": [
    "Create the data files"
   ]
  },
  {
   "cell_type": "code",
   "execution_count": 5,
   "metadata": {},
   "outputs": [],
   "source": [
    "generate_data_files(24)"
   ]
  },
  {
   "cell_type": "markdown",
   "metadata": {},
   "source": [
    "# Method to read data"
   ]
  },
  {
   "cell_type": "code",
   "execution_count": 6,
   "metadata": {},
   "outputs": [],
   "source": [
    "def get_data(start_date):\n",
    "    \"\"\"\n",
    "    Read a file, which is named by the time stamp of its first value and return a DataFrame\n",
    "    \"\"\"\n",
    "    start_date = pd.Timestamp(start_date)\n",
    "    file_name = start_date.strftime(\"%Y-%m-%d_%H\")\n",
    "    file_path = os.path.join(\".\", \"data\", f\"{file_name}.csv\")\n",
    "    df = pd.read_csv(file_path, index_col=0, parse_dates=True)\n",
    "    return df"
   ]
  },
  {
   "cell_type": "code",
   "execution_count": 7,
   "metadata": {},
   "outputs": [],
   "source": [
    "def get_file_path(start_date):\n",
    "    \"\"\"\n",
    "    Read a file, which is named by the time stamp of its first value and return a DataFrame\n",
    "    \"\"\"\n",
    "    start_date = pd.Timestamp(start_date)\n",
    "    file_name = start_date.strftime(\"%Y-%m-%d_%H\")\n",
    "    file_path = os.path.join(\".\", \"data\", f\"{file_name}.csv\")\n",
    "    return file_path"
   ]
  },
  {
   "cell_type": "markdown",
   "metadata": {},
   "source": [
    "# The animation part starts here"
   ]
  },
  {
   "cell_type": "markdown",
   "metadata": {},
   "source": [
    "## Setup plot\n",
    "The animation consists of an ordinary pyplot plot, where (parts of) the data content is manipulated and then updated in the plot. Run this ceel to create the plot, before running any of the below methods to create the animation."
   ]
  },
  {
   "cell_type": "code",
   "execution_count": 30,
   "metadata": {},
   "outputs": [],
   "source": [
    "start = pd.Timestamp('2021-10-10 00:00:00')\n",
    "\n",
    "# Need fig and ax objects. fig will be passed to FuncAnimation (later) and ax holds the artist objects,\n",
    "# in this case the line with noisy sine and the text showing the start time of each \"simulation\"\n",
    "fig, ax = plt.subplots(nrows=1, ncols=1, figsize=(8,3))\n",
    "# add an empty line to the plot. This is a placeholder for the forecast\n",
    "ax.plot([],[])\n",
    "# Pick the line, which has just been added to the plot.\n",
    "# This variable must be visible to the update function (see below), which will provide new data for it.\n",
    "line = ax.get_lines()[-1] \n",
    "\n",
    "# We also want to update the start time of each simulation. This variable must also be visible to the update function\n",
    "time_text = ax.text(0.65, 0.92, \"                    \" , transform=ax.transAxes)\n",
    "\n",
    "# Need to set the axis ranges, because the initial plot does not see the full extent in neither x nor y-direction\n",
    "end = start + 2*pd.Timedelta('1D')\n",
    "ax.set_xlim(start, end)\n",
    "ax.set_ylim(-2, 2)\n",
    "\n",
    "fig.autofmt_xdate() # beautify the x-labels"
   ]
  },
  {
   "cell_type": "markdown",
   "metadata": {},
   "source": [
    "## Animate"
   ]
  },
  {
   "cell_type": "markdown",
   "metadata": {},
   "source": [
    "### Method 1 - frames identified by an integer"
   ]
  },
  {
   "cell_type": "markdown",
   "metadata": {},
   "source": [
    "The following two cells use an integer to identify the frame in the update function. So in update(i), the file_path is inferred by calculating the time stamp that corresponds to i, and then constructing the file_path.\n",
    "In the nex cell FuncAnimation takes a frames argument, which is just a list of integers, frames = range(30). We have 24 files, and the range is set to (0,30) to also encounter \"missing\" files."
   ]
  },
  {
   "cell_type": "code",
   "execution_count": null,
   "metadata": {},
   "outputs": [],
   "source": [
    "def update(i):\n",
    "    time = pd.Timestamp(start) + i*pd.Timedelta('1H')\n",
    "    \n",
    "    file_path = get_file_path(time)\n",
    "    \n",
    "    if os.path.exists(file_path):\n",
    "        df = pd.read_csv(file_path, index_col=0, parse_dates=True)\n",
    "        line.set_data(df.index, df['values'])\n",
    "        time_text.set_text(str(time))\n",
    "    else:\n",
    "        line.set_data([],[])\n",
    "        time_text.set_text(str(time) + ' MISSING')\n",
    "    \n",
    "    # the update function must return all manipulated Artist objects in a list-like object\n",
    "    return line, time_text"
   ]
  },
  {
   "cell_type": "markdown",
   "metadata": {},
   "source": [
    "Create the animation (see matplotlib [documentation](https://matplotlib.org/stable/api/_as_gen/matplotlib.animation.FuncAnimation.html) to see all possible arguments).\n",
    "The call to FuncAnimation starts the animation - but for some reason this does not works in an interactive plot. To see the animation without saving, switch to qt backend in the \"import dependencies section\""
   ]
  },
  {
   "cell_type": "code",
   "execution_count": null,
   "metadata": {},
   "outputs": [],
   "source": [
    "ani = animation.FuncAnimation(\n",
    "    fig, func=update, frames=range(30), interval=400, blit=True)#, save_count=24)\n",
    "    #fig, func=update, interval=400, blit=True, save_count=24)"
   ]
  },
  {
   "cell_type": "markdown",
   "metadata": {},
   "source": [
    "### Method 2 - frames identified by time stamp"
   ]
  },
  {
   "cell_type": "markdown",
   "metadata": {},
   "source": [
    "The next two celss show an alternative way of defining which frames to iterate over. Now the update function takes \"time\", a pd.Timestamp as argument. FuncAnimation gets for \"frames\" now a list of pd.Timestamp (generated by pd.date_range) - so no need to calculate the time from i.\n",
    "frames can be any list of objects (possibly also the data objects themselves or a generator function)"
   ]
  },
  {
   "cell_type": "code",
   "execution_count": null,
   "metadata": {},
   "outputs": [],
   "source": [
    "def update(time):\n",
    "    #time = pd.Timestamp(start) + i*pd.Timedelta('1H')\n",
    "    \n",
    "    file_path = get_file_path(time)\n",
    "    \n",
    "    if os.path.exists(file_path):\n",
    "        df = pd.read_csv(file_path, index_col=0, parse_dates=True)\n",
    "        line.set_data(df.index, df['values'])\n",
    "        time_text.set_text(str(time))\n",
    "    else:\n",
    "        line.set_data([],[])\n",
    "        time_text.set_text(str(time) + ' MISSING')\n",
    "    \n",
    "    # the update function must return all manipulated Artist objects in a list-like object\n",
    "    return line, time_text"
   ]
  },
  {
   "cell_type": "code",
   "execution_count": null,
   "metadata": {
    "jupyter": {
     "source_hidden": true
    }
   },
   "outputs": [],
   "source": [
    "frames = pd.date_range(start=start, periods=30, freq='H')\n",
    "ani = animation.FuncAnimation(\n",
    "    fig, func=update, frames=frames, interval=400, blit=True)"
   ]
  },
  {
   "cell_type": "markdown",
   "metadata": {},
   "source": [
    "### Method 3 - frames created by a generator"
   ]
  },
  {
   "cell_type": "code",
   "execution_count": 31,
   "metadata": {},
   "outputs": [],
   "source": [
    "def frame_generator(time):\n",
    "    while True:\n",
    "        file_path = get_file_path(time)\n",
    "        if os.path.exists(file_path):\n",
    "            df = pd.read_csv(file_path, index_col=0, parse_dates=True)\n",
    "            time += pd.Timedelta('1H')\n",
    "            yield df\n",
    "        else:\n",
    "            time += pd.Timedelta('1H')\n",
    "            yield pd.DataFrame()"
   ]
  },
  {
   "cell_type": "code",
   "execution_count": 26,
   "metadata": {},
   "outputs": [
    {
     "data": {
      "text/html": [
       "<div>\n",
       "<style scoped>\n",
       "    .dataframe tbody tr th:only-of-type {\n",
       "        vertical-align: middle;\n",
       "    }\n",
       "\n",
       "    .dataframe tbody tr th {\n",
       "        vertical-align: top;\n",
       "    }\n",
       "\n",
       "    .dataframe thead th {\n",
       "        text-align: right;\n",
       "    }\n",
       "</style>\n",
       "<table border=\"1\" class=\"dataframe\">\n",
       "  <thead>\n",
       "    <tr style=\"text-align: right;\">\n",
       "      <th></th>\n",
       "      <th>values</th>\n",
       "    </tr>\n",
       "  </thead>\n",
       "  <tbody>\n",
       "    <tr>\n",
       "      <th>2021-10-10 00:00:00</th>\n",
       "      <td>0.296488</td>\n",
       "    </tr>\n",
       "    <tr>\n",
       "      <th>2021-10-10 01:00:00</th>\n",
       "      <td>0.274095</td>\n",
       "    </tr>\n",
       "    <tr>\n",
       "      <th>2021-10-10 02:00:00</th>\n",
       "      <td>0.765325</td>\n",
       "    </tr>\n",
       "    <tr>\n",
       "      <th>2021-10-10 03:00:00</th>\n",
       "      <td>0.982158</td>\n",
       "    </tr>\n",
       "    <tr>\n",
       "      <th>2021-10-10 04:00:00</th>\n",
       "      <td>1.273929</td>\n",
       "    </tr>\n",
       "    <tr>\n",
       "      <th>2021-10-10 05:00:00</th>\n",
       "      <td>0.487219</td>\n",
       "    </tr>\n",
       "    <tr>\n",
       "      <th>2021-10-10 06:00:00</th>\n",
       "      <td>1.127626</td>\n",
       "    </tr>\n",
       "    <tr>\n",
       "      <th>2021-10-10 07:00:00</th>\n",
       "      <td>0.906366</td>\n",
       "    </tr>\n",
       "    <tr>\n",
       "      <th>2021-10-10 08:00:00</th>\n",
       "      <td>0.444090</td>\n",
       "    </tr>\n",
       "    <tr>\n",
       "      <th>2021-10-10 09:00:00</th>\n",
       "      <td>0.732562</td>\n",
       "    </tr>\n",
       "    <tr>\n",
       "      <th>2021-10-10 10:00:00</th>\n",
       "      <td>0.463687</td>\n",
       "    </tr>\n",
       "    <tr>\n",
       "      <th>2021-10-10 11:00:00</th>\n",
       "      <td>-0.151799</td>\n",
       "    </tr>\n",
       "    <tr>\n",
       "      <th>2021-10-10 12:00:00</th>\n",
       "      <td>-0.418324</td>\n",
       "    </tr>\n",
       "    <tr>\n",
       "      <th>2021-10-10 13:00:00</th>\n",
       "      <td>0.063589</td>\n",
       "    </tr>\n",
       "    <tr>\n",
       "      <th>2021-10-10 14:00:00</th>\n",
       "      <td>-0.625807</td>\n",
       "    </tr>\n",
       "    <tr>\n",
       "      <th>2021-10-10 15:00:00</th>\n",
       "      <td>-0.372072</td>\n",
       "    </tr>\n",
       "    <tr>\n",
       "      <th>2021-10-10 16:00:00</th>\n",
       "      <td>-0.625931</td>\n",
       "    </tr>\n",
       "    <tr>\n",
       "      <th>2021-10-10 17:00:00</th>\n",
       "      <td>-1.421039</td>\n",
       "    </tr>\n",
       "    <tr>\n",
       "      <th>2021-10-10 18:00:00</th>\n",
       "      <td>-0.732139</td>\n",
       "    </tr>\n",
       "    <tr>\n",
       "      <th>2021-10-10 19:00:00</th>\n",
       "      <td>-1.416715</td>\n",
       "    </tr>\n",
       "    <tr>\n",
       "      <th>2021-10-10 20:00:00</th>\n",
       "      <td>-1.246540</td>\n",
       "    </tr>\n",
       "    <tr>\n",
       "      <th>2021-10-10 21:00:00</th>\n",
       "      <td>-0.593787</td>\n",
       "    </tr>\n",
       "    <tr>\n",
       "      <th>2021-10-10 22:00:00</th>\n",
       "      <td>-0.894240</td>\n",
       "    </tr>\n",
       "    <tr>\n",
       "      <th>2021-10-10 23:00:00</th>\n",
       "      <td>-0.067543</td>\n",
       "    </tr>\n",
       "  </tbody>\n",
       "</table>\n",
       "</div>"
      ],
      "text/plain": [
       "                       values\n",
       "2021-10-10 00:00:00  0.296488\n",
       "2021-10-10 01:00:00  0.274095\n",
       "2021-10-10 02:00:00  0.765325\n",
       "2021-10-10 03:00:00  0.982158\n",
       "2021-10-10 04:00:00  1.273929\n",
       "2021-10-10 05:00:00  0.487219\n",
       "2021-10-10 06:00:00  1.127626\n",
       "2021-10-10 07:00:00  0.906366\n",
       "2021-10-10 08:00:00  0.444090\n",
       "2021-10-10 09:00:00  0.732562\n",
       "2021-10-10 10:00:00  0.463687\n",
       "2021-10-10 11:00:00 -0.151799\n",
       "2021-10-10 12:00:00 -0.418324\n",
       "2021-10-10 13:00:00  0.063589\n",
       "2021-10-10 14:00:00 -0.625807\n",
       "2021-10-10 15:00:00 -0.372072\n",
       "2021-10-10 16:00:00 -0.625931\n",
       "2021-10-10 17:00:00 -1.421039\n",
       "2021-10-10 18:00:00 -0.732139\n",
       "2021-10-10 19:00:00 -1.416715\n",
       "2021-10-10 20:00:00 -1.246540\n",
       "2021-10-10 21:00:00 -0.593787\n",
       "2021-10-10 22:00:00 -0.894240\n",
       "2021-10-10 23:00:00 -0.067543"
      ]
     },
     "execution_count": 26,
     "metadata": {},
     "output_type": "execute_result"
    }
   ],
   "source": [
    "# optional: see an item returned by the generator\n",
    "gen = frame_generator(start)\n",
    "next(gen)"
   ]
  },
  {
   "cell_type": "code",
   "execution_count": 32,
   "metadata": {},
   "outputs": [],
   "source": [
    "def update(df):\n",
    "    if ~(df.empty):\n",
    "        line.set_data(df.index, df['values'])\n",
    "        time_text.set_text(df.index[0])\n",
    "    else:\n",
    "        line.set_data([],[])\n",
    "        time_text.set_text(' MISSING')\n",
    "    \n",
    "    # the update function must return all manipulated Artist objects in a list-like object\n",
    "    return line, time_text"
   ]
  },
  {
   "cell_type": "code",
   "execution_count": 33,
   "metadata": {},
   "outputs": [],
   "source": [
    "ani = animation.FuncAnimation(\n",
    "    fig, func=update, frames=frame_generator(start), interval=400, blit=True, save_count=24)"
   ]
  },
  {
   "cell_type": "markdown",
   "metadata": {},
   "source": [
    "## Save the animation to different formats\n",
    "Documentation of different writer classes [https://matplotlib.org/stable/api/animation_api.html#writer-classes](https://matplotlib.org/stable/api/animation_api.html#writer-classes)"
   ]
  },
  {
   "cell_type": "markdown",
   "metadata": {},
   "source": [
    "### gif"
   ]
  },
  {
   "cell_type": "code",
   "execution_count": null,
   "metadata": {},
   "outputs": [],
   "source": [
    "movie_name = 'test_ani.gif'\n",
    "ani.save(movie_name, writer=None) #writer=None: default uses Pillow writer"
   ]
  },
  {
   "cell_type": "markdown",
   "metadata": {},
   "source": [
    "### mp4\n",
    "Requires the ffmpeg writer. This can be installed as a part of ImageMagic. ImageMagic is not a python package, it needs to be installed separately (download [here](https://imagemagick.org/script/download.php) or install via [chocolatey](https://chocolatey.org/)) - there are probably also other ways, but this is the one that I could easily make work. ImageMagic puts its bin-directory in the PATH environment variable, but you may need to tell matplotlib the name of the executable. This is done in rcParams (se below cell). Just to clarify before entering anything:\n",
    "\n",
    "- path to bin (installation default): 'C:\\Program Files\\ImageMagick-7.1.0-Q16-HDRI' (this is what in in PATH)\n",
    "- name of executable: 'ffmpeg.exe'"
   ]
  },
  {
   "cell_type": "code",
   "execution_count": null,
   "metadata": {},
   "outputs": [],
   "source": [
    "# These two ways of setting the path to the ffmpeg writer both works - the latter is the most \"clean\".\n",
    "#plt.rcParams['animation.ffmpeg_path'] = r'C:\\Program Files\\ImageMagick-7.1.0-Q16-HDRI\\ffmpeg.exe' # full path to ffmpeg executable\n",
    "plt.rcParams['animation.ffmpeg_path'] = 'ffmpeg' #should be specific enough when the PATH includes ffmpeg's bin directory\n",
    "movie_name = 'test_ani.mp4'\n",
    "ani.save(movie_name, writer='ffmpeg')"
   ]
  },
  {
   "cell_type": "markdown",
   "metadata": {},
   "source": [
    "### html5"
   ]
  },
  {
   "cell_type": "code",
   "execution_count": null,
   "metadata": {},
   "outputs": [],
   "source": [
    "# generate a html5 video tag, which can be embedded on a web page\n",
    "html5_video = ani.to_html5_video()"
   ]
  },
  {
   "cell_type": "code",
   "execution_count": null,
   "metadata": {},
   "outputs": [],
   "source": [
    "# show the generated video tag\n",
    "html5_video"
   ]
  },
  {
   "cell_type": "code",
   "execution_count": null,
   "metadata": {},
   "outputs": [],
   "source": [
    "# html can also be embedded in the notebook - so show the video!\n",
    "HTML(html5_video)"
   ]
  },
  {
   "cell_type": "markdown",
   "metadata": {},
   "source": [
    "# Bonus - a cool way of using animation in combination with polar coordinates :-)"
   ]
  },
  {
   "cell_type": "code",
   "execution_count": null,
   "metadata": {},
   "outputs": [],
   "source": [
    "#https://python.plainenglish.io/building-an-analog-clock-using-python-518922d57784\n",
    "from numpy import pi\n",
    "fig= plt.figure(figsize=(2.5,2.5),dpi=100)\n",
    "ax = fig.add_subplot(111, polar=True)\n",
    "def update(now):\n",
    "    plt.cla()\n",
    "    \n",
    "    plt.setp(ax.get_yticklabels(), visible=False)\n",
    "    ax.set_xticks(np.linspace(0, 2*pi, 12, endpoint=False))\n",
    "    ax.set_xticklabels(range(1,13))\n",
    "    ax.set_theta_direction(-1)\n",
    "    ax.set_theta_offset(pi/3.0)\n",
    "    ax.grid(False)\n",
    "    plt.ylim(0,1)\n",
    "    now = datetime.now()\n",
    "    hour= now.hour\n",
    "    minute = now.minute\n",
    "    second = now.second\n",
    "    angles_h =2*pi*hour/12+2*pi*minute/(12*60)+2*second/(12*60*60)-pi/6.0\n",
    "    angles_m= 2*pi*minute/60+2*pi*second/(60*60)-pi/6.0\n",
    "    angles_s =2*pi*second/60-pi/6.0\n",
    "    ax.plot([angles_s,angles_s], [0,0.9], color=\"black\", linewidth=1)\n",
    "    ax.plot([angles_m,angles_m], [0,0.7], color=\"black\", linewidth=2)\n",
    "    ax.plot([angles_h,angles_h], [0,0.3], color=\"black\", linewidth=4)\n",
    "    return ax\n",
    "ani = animation.FuncAnimation(fig,update, interval = 100)\n",
    "plt.show()"
   ]
  },
  {
   "cell_type": "code",
   "execution_count": null,
   "metadata": {},
   "outputs": [],
   "source": []
  }
 ],
 "metadata": {
  "kernelspec": {
   "display_name": "Python 3",
   "language": "python",
   "name": "python3"
  },
  "language_info": {
   "codemirror_mode": {
    "name": "ipython",
    "version": 3
   },
   "file_extension": ".py",
   "mimetype": "text/x-python",
   "name": "python",
   "nbconvert_exporter": "python",
   "pygments_lexer": "ipython3",
   "version": "3.7.6"
  }
 },
 "nbformat": 4,
 "nbformat_minor": 4
}
