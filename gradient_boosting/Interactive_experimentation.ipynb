{
 "cells": [
  {
   "cell_type": "code",
   "execution_count": 1,
   "id": "e1ce5856-8405-41cb-8e95-c3a95701ddfc",
   "metadata": {},
   "outputs": [],
   "source": [
    "import numpy as np\n",
    "import pandas as pd\n",
    "import catboost\n",
    "import ngboost\n",
    "import KTBoost.KTBoost as KTBoost\n",
    "import xgboost\n",
    "import matplotlib\n",
    "from matplotlib import pyplot as plt\n",
    "import sklearn\n",
    "from sklearn.ensemble import GradientBoostingRegressor\n",
    "from sklearn.linear_model import LinearRegression\n",
    "\n",
    "from ipywidgets import interact, interactive, fixed, interact_manual\n",
    "import ipywidgets as widgets\n",
    "from IPython.display import display\n",
    "import IPython"
   ]
  },
  {
   "cell_type": "markdown",
   "id": "01f6eacf-313e-465f-934b-60fab25799ef",
   "metadata": {},
   "source": [
    "# Compare predictions from different methods"
   ]
  },
  {
   "cell_type": "code",
   "execution_count": 2,
   "id": "f758beb4-c2b4-4457-9e05-46994be42b4a",
   "metadata": {},
   "outputs": [],
   "source": [
    "def linear_data(nobs, noise_std):\n",
    "    coefficients = np.array([13, -10, 7])\n",
    "    x = np.random.uniform(size=[nobs, 3])\n",
    "    y = x @ coefficients + np.random.normal(size=nobs)*noise_std\n",
    "    sorted_inds = np.argsort(y)\n",
    "    y = y[sorted_inds]\n",
    "    x = x[sorted_inds, ...]\n",
    "    return x, y\n",
    "\n",
    "def nonlinear_data(nobs, noise_std):\n",
    "    coefficients = np.array([13, -10, 7])\n",
    "    x = np.random.uniform(size=[nobs, 3])\n",
    "    y = x[:, 0]**2 + 2*np.sin(x[:, 1]) + x[:, 1]*x[:, 2] + np.random.normal(size=nobs)*noise_std\n",
    "    sorted_inds = np.argsort(y)\n",
    "    y = y[sorted_inds]\n",
    "    x = x[sorted_inds, ...]\n",
    "    return x, y"
   ]
  },
  {
   "cell_type": "code",
   "execution_count": 3,
   "id": "32140ca6-521c-4753-a8d6-9ab2f4e38353",
   "metadata": {},
   "outputs": [],
   "source": [
    "def func(nobs, noise_std, linear):\n",
    "    methods = {\n",
    "    'Linear regression': [LinearRegression(), {}],\n",
    "    'SKLearn GB': [GradientBoostingRegressor(), {}],\n",
    "    'NGB': [ngboost.NGBRegressor(), {}],\n",
    "    'Catboost': [catboost.CatBoostRegressor(), {'verbose': False}],\n",
    "    'KTBoost': [KTBoost.BoostingRegressor(), {}],\n",
    "    'XGBoost': [xgboost.XGBRegressor(), {}]}\n",
    "\n",
    "    if linear:\n",
    "        x, y = linear_data(nobs, noise_std)\n",
    "        xtest, ytest = linear_data(nobs, noise_std)\n",
    "    else:\n",
    "        x, y = nonlinear_data(nobs, noise_std)\n",
    "        xtest, ytest = nonlinear_data(nobs, noise_std)\n",
    "    \n",
    "    for key, value in methods.items():\n",
    "        value[0].fit(x, y, **value[1])\n",
    "    \n",
    "    plt.figure(figsize=[10, 5])\n",
    "    plt.subplot(1, 2, 1)\n",
    "    plt.plot(y, 'ok', label='Observations')\n",
    "    \n",
    "    for key, value in methods.items():\n",
    "        plt.plot(value[0].predict(x), label=key)\n",
    "    plt.title('Training')\n",
    "    plt.legend()\n",
    "    \n",
    "    plt.subplot(1, 2, 2)\n",
    "    plt.plot(ytest, 'ok', label='Observations')\n",
    "    for key, value in methods.items():\n",
    "        plt.plot(value[0].predict(xtest), label=key)\n",
    "    plt.title('Testing')\n",
    "    plt.legend()"
   ]
  },
  {
   "cell_type": "code",
   "execution_count": 4,
   "id": "7cb36e26-4ea1-4251-8016-df22460fef82",
   "metadata": {},
   "outputs": [
    {
     "data": {
      "application/vnd.jupyter.widget-view+json": {
       "model_id": "ff7036f86a6942d6a8cb3dd1b8d53108",
       "version_major": 2,
       "version_minor": 0
      },
      "text/plain": [
       "interactive(children=(IntSlider(value=505, description='nobs', max=1000, min=10), FloatSlider(value=0.0, descr…"
      ]
     },
     "metadata": {},
     "output_type": "display_data"
    }
   ],
   "source": [
    "%matplotlib widget\n",
    "y = interactive(func, {'manual': True}, nobs=(10, 1000), noise_std=(0, 1, 0.1), linear=[('True', True), ('False', False)])\n",
    "display(y)"
   ]
  },
  {
   "cell_type": "markdown",
   "id": "601b32b0-5dd7-4c59-8d2f-df6f4c7a7454",
   "metadata": {},
   "source": [
    "# Compare probabilistic predictions"
   ]
  },
  {
   "cell_type": "code",
   "execution_count": 5,
   "id": "6f19ebd9-89e9-4f22-9fbe-90e778c45d9d",
   "metadata": {},
   "outputs": [],
   "source": [
    "def func(nobs, noise_std, linear):\n",
    "    methods = {\n",
    "    'Linear regression': [LinearRegression(), {}],\n",
    "    'NGB': [ngboost.NGBRegressor(), {}],\n",
    "    'Catboost': [catboost.CatBoostRegressor(), {'verbose': False}]}\n",
    "\n",
    "    if linear:\n",
    "        x, y = linear_data(nobs, noise_std)\n",
    "        xtest, ytest = linear_data(nobs, noise_std)\n",
    "    else:\n",
    "        x, y = nonlinear_data(nobs, noise_std)\n",
    "        xtest, ytest = nonlinear_data(nobs, noise_std)\n",
    "    \n",
    "    for key, value in methods.items():\n",
    "        value[0].fit(x, y, **value[1])\n",
    "    \n",
    "    plt.figure(figsize=[10, 5])\n",
    "    plt.subplot(1, 2, 1)\n",
    "    plt.plot(y, 'ok', label='Observations')\n",
    "    \n",
    "    for key, value in methods.items():\n",
    "        plt.plot(value[0].predict(x), label=key)\n",
    "    plt.title('Training')\n",
    "    plt.legend()\n",
    "    \n",
    "    plt.subplot(1, 2, 2)\n",
    "    plt.plot(ytest, 'ok', label='Observations')\n",
    "    for key, value in methods.items():\n",
    "        plt.plot(value[0].predict(xtest), label=key)\n",
    "    plt.title('Testing')\n",
    "    plt.legend()"
   ]
  },
  {
   "cell_type": "code",
   "execution_count": 66,
   "id": "51e4423d-5a6c-4fa2-b530-89099dbffa34",
   "metadata": {},
   "outputs": [],
   "source": [
    "def func(nobs, noise_std, linear, posterior_sampling):\n",
    "    x, y = linear_data(nobs, noise_std)\n",
    "    xtest, ytest = linear_data(nobs, noise_std)\n",
    "\n",
    "    ngb = ngboost.NGBRegressor()\n",
    "    catgb = catboost.CatBoostRegressor(posterior_sampling=posterior_sampling, loss_function='RMSEWithUncertainty')\n",
    "\n",
    "    ngb.fit(x, y)\n",
    "    catgb.fit(x, y, verbose=False)\n",
    "\n",
    "    plt.figure(figsize=[10, 5])\n",
    "    plt.subplot(1, 2, 1)\n",
    "    plt.plot(y, 'ok', label='Observations')\n",
    "    pred_dist = ngb.pred_dist(x)\n",
    "    mu = pred_dist.params['loc']\n",
    "    std = pred_dist.params['scale']\n",
    "    line, = plt.plot(mu, lw=2, label='NGB Predicted $\\mu$')\n",
    "    plt.fill_between(\n",
    "        line.get_xdata(), (mu - 2*std), (mu + 2*std), color=predict_line.get_color(), alpha=0.4,\n",
    "        label='NGB Predicted $\\mu \\pm 2*\\sigma$')\n",
    "    predictions = catgb.predict(x)\n",
    "    #ensemble_predictions = catgb.virtual_ensembles_predict(x, prediction_type='VirtEnsembles')\n",
    "    #mins = np.min(ensemble_predictions, axis=1)\n",
    "    #maxs = np.max(ensemble_predictions, axis=1)\n",
    "    line, = plt.plot(predictions[:, 0], lw=2, label='Conditional mean, Catboost')\n",
    "    plt.fill_between(\n",
    "    line.get_xdata(), \n",
    "    predictions[:, 0]-2*np.sqrt(predictions[:, 1]), predictions[:, 0]+2*np.sqrt(predictions[:, 1]), color=line.get_color(), alpha=0.4,\n",
    "    label='Catboost $\\mu \\pm 2*\\sigma$')\n",
    "    #plt.fill_between(\n",
    "    #    line.get_xdata(), \n",
    "    #    mins[:, 0], maxs[:, 0], color=line.get_color(), alpha=0.4,\n",
    "    #    label='Catboost min and max')\n",
    "    plt.legend()\n",
    "    plt.title('Training')\n",
    "\n",
    "    plt.subplot(1, 2, 2)\n",
    "    plt.plot(ytest, 'ok', label='Observations')\n",
    "    pred_dist = ngb.pred_dist(xtest)\n",
    "    mu = pred_dist.params['loc']\n",
    "    std = pred_dist.params['scale']\n",
    "    line, = plt.plot(mu, lw=2, label='NGB Predicted $\\mu$')\n",
    "    plt.fill_between(\n",
    "        line.get_xdata(), (mu - 2*std), (mu + 2*std), color=predict_line.get_color(), alpha=0.4,\n",
    "        label='NGB Predicted $\\mu \\pm 2*\\sigma$')\n",
    "    predictions = catgb.predict(xtest)\n",
    "    #ensemble_predictions = catgb.virtual_ensembles_predict(xtest, prediction_type='VirtEnsembles', virtual_ensembles_count=10)\n",
    "    #mins = np.min(ensemble_predictions, axis=1)\n",
    "    #maxs = np.max(ensemble_predictions, axis=1)\n",
    "    line, = plt.plot(predictions[:, 0], lw=2, label='Conditional mean, Catboost')\n",
    "    plt.fill_between(\n",
    "    line.get_xdata(), \n",
    "    predictions[:, 0]-2*np.sqrt(predictions[:, 1]), predictions[:, 0]+2*np.sqrt(predictions[:, 1]), color=line.get_color(), alpha=0.4,\n",
    "    label='Catboost $\\mu \\pm 2*\\sigma$')\n",
    "    plt.title('Test')"
   ]
  },
  {
   "cell_type": "code",
   "execution_count": 67,
   "id": "ce127b72-0e4c-4a6f-92e8-1322508c1660",
   "metadata": {},
   "outputs": [
    {
     "data": {
      "application/vnd.jupyter.widget-view+json": {
       "model_id": "a91d44980f124c04832c41ed267a3341",
       "version_major": 2,
       "version_minor": 0
      },
      "text/plain": [
       "interactive(children=(IntSlider(value=505, description='nobs', max=1000, min=10), FloatSlider(value=0.0, descr…"
      ]
     },
     "metadata": {},
     "output_type": "display_data"
    }
   ],
   "source": [
    "%matplotlib widget\n",
    "y = interactive(func, {'manual': True}, nobs=(10, 1000), noise_std=(0, 1, 0.1), linear=[('True', True), ('False', False)], posterior_sampling=[('True', True), ('False', False)])\n",
    "display(y)"
   ]
  },
  {
   "cell_type": "code",
   "execution_count": null,
   "id": "f26f1e02-1c15-472f-8944-61eea526d25e",
   "metadata": {},
   "outputs": [],
   "source": []
  }
 ],
 "metadata": {
  "kernelspec": {
   "display_name": "Python 3",
   "language": "python",
   "name": "python3"
  },
  "language_info": {
   "codemirror_mode": {
    "name": "ipython",
    "version": 3
   },
   "file_extension": ".py",
   "mimetype": "text/x-python",
   "name": "python",
   "nbconvert_exporter": "python",
   "pygments_lexer": "ipython3",
   "version": "3.8.5"
  }
 },
 "nbformat": 4,
 "nbformat_minor": 5
}
