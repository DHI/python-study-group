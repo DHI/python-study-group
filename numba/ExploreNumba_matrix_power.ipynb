{
 "cells": [
  {
   "cell_type": "markdown",
   "metadata": {},
   "source": [
    "# Explore numba for matrix calculations\n",
    "Anne Katrine Falk, 26FEB2021\n",
    "\n",
    "[numba](https://numba.pydata.org/) is a python package, which compiles python code into machine code.\n",
    "\n",
    "This notebook contains exploratory test for investigating ways to make matrix calculations benefit from numba"
   ]
  },
  {
   "cell_type": "code",
   "execution_count": null,
   "metadata": {},
   "outputs": [],
   "source": [
    "import numba\n",
    "from numba import jit\n",
    "import numpy as np\n",
    "print(f'numba version: {numba.__version__}')\n",
    "print(f'numpy version: {np.__version__}')  "
   ]
  },
  {
   "cell_type": "code",
   "execution_count": null,
   "metadata": {},
   "outputs": [],
   "source": [
    "# Verify if CUDA toolkit is found and print the version\n",
    "!nvcc -V"
   ]
  },
  {
   "cell_type": "code",
   "execution_count": null,
   "metadata": {},
   "outputs": [],
   "source": [
    "#@jit(nopython=True)\n",
    "@jit(nopython=True, parallel=True) #parallel only works on CPU, the doc says...\n",
    "def numba_create_random_square_matrix(size):\n",
    "    return np.random.rand(size,size)"
   ]
  },
  {
   "cell_type": "code",
   "execution_count": null,
   "metadata": {},
   "outputs": [],
   "source": [
    "numba_create_random_square_matrix(5)"
   ]
  },
  {
   "cell_type": "code",
   "execution_count": null,
   "metadata": {},
   "outputs": [],
   "source": [
    "size = 2000"
   ]
  },
  {
   "cell_type": "code",
   "execution_count": null,
   "metadata": {},
   "outputs": [],
   "source": [
    "%%timeit -r 7 -n 10\n",
    "x = np.random.rand(size,size)"
   ]
  },
  {
   "cell_type": "code",
   "execution_count": null,
   "metadata": {},
   "outputs": [],
   "source": [
    "%%timeit -r 7 -n 10\n",
    "x = numba_create_random_square_matrix(size)"
   ]
  },
  {
   "cell_type": "markdown",
   "metadata": {},
   "source": [
    "# Several ways to calculate matrix power - with and without numba"
   ]
  },
  {
   "cell_type": "code",
   "execution_count": null,
   "metadata": {},
   "outputs": [],
   "source": [
    "@jit(nopython=True)\n",
    "def numba_matrix_power(a, p):\n",
    "    \"\"\"\n",
    "    numba \n",
    "    Matrix power calculated using @ operator and recursion.\n",
    "    \"\"\"\n",
    "    if p==1:\n",
    "        return a\n",
    "    elif p%2 == 0:\n",
    "        b = numba_matrix_power(a, p//2)\n",
    "        return b @ b\n",
    "    else: \n",
    "        return numba_matrix_power(a, p-1) @ a"
   ]
  },
  {
   "cell_type": "code",
   "execution_count": null,
   "metadata": {},
   "outputs": [],
   "source": [
    "def matrix_power(a, p):\n",
    "    \"\"\"Matrix power calculated using @ operator and recursion.\"\"\"\n",
    "    if p==1:\n",
    "        return a\n",
    "    elif p%2 == 0:\n",
    "        b = matrix_power(a, p//2)\n",
    "        return b @ b\n",
    "    else: \n",
    "        return matrix_power(a, p-1) @ a"
   ]
  },
  {
   "cell_type": "code",
   "execution_count": null,
   "metadata": {},
   "outputs": [],
   "source": [
    "@jit(nopython=True)\n",
    "def numba_matrix_power_dot(a, p):\n",
    "    \"\"\"\n",
    "    numba\n",
    "    Matrix power calculated using np.dot\n",
    "    \"\"\"\n",
    "    if p==1:\n",
    "        return a\n",
    "    elif p%2 == 0:\n",
    "        b = numba_matrix_power_dot(a, p//2)\n",
    "        return np.dot(b, b)\n",
    "    else: \n",
    "        return np.dot(numba_matrix_power_dot(a, p-1), a)"
   ]
  },
  {
   "cell_type": "code",
   "execution_count": null,
   "metadata": {},
   "outputs": [],
   "source": [
    "# returns an error when called, as np.matmul is not supported by numba\n",
    "@jit(nopython=True)\n",
    "def numba_matrix_power_matmul(a, p):\n",
    "    \"\"\"Matrix power calculated using np.matmul\"\"\"\n",
    "    if p==1:\n",
    "        return a\n",
    "    else: \n",
    "        return np.matmul(numba_matrix_power_matmul(a, p-1), a)"
   ]
  },
  {
   "cell_type": "code",
   "execution_count": null,
   "metadata": {},
   "outputs": [],
   "source": [
    "@jit(nopython=True)\n",
    "def numba_linalg_matrix_power(a, p):\n",
    "    \"\"\"\n",
    "    numba\n",
    "    Matrix power calculated using np.linalg.matrix_power\n",
    "    \"\"\"\n",
    "    return np.linalg.matrix_power(a, p)    "
   ]
  },
  {
   "cell_type": "markdown",
   "metadata": {},
   "source": [
    "### check of power functions"
   ]
  },
  {
   "cell_type": "code",
   "execution_count": null,
   "metadata": {},
   "outputs": [],
   "source": [
    "a=np.array([[2.,2.], [2.,2.]])"
   ]
  },
  {
   "cell_type": "markdown",
   "metadata": {},
   "source": [
    "expect  $a^2 = \\begin{bmatrix} 8 & 8 \\\\ 8 & 8 \\end{bmatrix}$ and $a^3 = \\begin{bmatrix} 32 & 32 \\\\ 32 & 32 \\end{bmatrix}$"
   ]
  },
  {
   "cell_type": "code",
   "execution_count": null,
   "metadata": {},
   "outputs": [],
   "source": [
    "numba_matrix_power(a, 2)"
   ]
  },
  {
   "cell_type": "code",
   "execution_count": null,
   "metadata": {},
   "outputs": [],
   "source": [
    "numba_matrix_power_dot(a, 2)"
   ]
  },
  {
   "cell_type": "code",
   "execution_count": null,
   "metadata": {},
   "outputs": [],
   "source": [
    "np.linalg.matrix_power(a, 3)"
   ]
  },
  {
   "cell_type": "code",
   "execution_count": null,
   "metadata": {},
   "outputs": [],
   "source": [
    "matrix_power(a, 3)"
   ]
  },
  {
   "cell_type": "code",
   "execution_count": null,
   "metadata": {},
   "outputs": [],
   "source": [
    "# expexted to throw an error, at numba with nopython=True does not support np.matmul\n",
    "numba_matrix_power_matmul(a, 2)"
   ]
  },
  {
   "cell_type": "markdown",
   "metadata": {},
   "source": [
    "# Generate a large matrix of random numbers and take a high power of it"
   ]
  },
  {
   "cell_type": "code",
   "execution_count": null,
   "metadata": {},
   "outputs": [],
   "source": [
    "# create a square matrix of random numbers\n",
    "size= 2000\n",
    "x = numba_create_random_square_matrix(size)"
   ]
  },
  {
   "cell_type": "code",
   "execution_count": null,
   "metadata": {},
   "outputs": [],
   "source": [
    "power = 50"
   ]
  },
  {
   "cell_type": "markdown",
   "metadata": {},
   "source": [
    "## Time the different implementations of matrix power\n",
    "Run the timing of the numba implementations twice, as a @jit marked function is compiled first time it it is called - and therefore the compilation time is included in the first timing."
   ]
  },
  {
   "cell_type": "markdown",
   "metadata": {},
   "source": [
    "### @ operator"
   ]
  },
  {
   "cell_type": "code",
   "execution_count": null,
   "metadata": {},
   "outputs": [],
   "source": [
    "%%timeit -r 1 -n 1\n",
    "numba_matrix_power(x, power)"
   ]
  },
  {
   "cell_type": "code",
   "execution_count": null,
   "metadata": {},
   "outputs": [],
   "source": [
    "%%timeit -r 1 -n 1\n",
    "matrix_power(x, power)"
   ]
  },
  {
   "cell_type": "markdown",
   "metadata": {},
   "source": [
    "### np.linalg.matrix_power"
   ]
  },
  {
   "cell_type": "code",
   "execution_count": null,
   "metadata": {},
   "outputs": [],
   "source": [
    "%%timeit -r 1 -n 1\n",
    "numba_linalg_matrix_power(x, power)"
   ]
  },
  {
   "cell_type": "code",
   "execution_count": null,
   "metadata": {},
   "outputs": [],
   "source": [
    "%%timeit -r 1 -n 1\n",
    "np.linalg.matrix_power(x, power)"
   ]
  },
  {
   "cell_type": "code",
   "execution_count": null,
   "metadata": {},
   "outputs": [],
   "source": []
  },
  {
   "cell_type": "markdown",
   "metadata": {},
   "source": [
    "It is hard to see any time differences - neither between numba/non-numba implementations and np.linalg vs homebrewed recursion implementation"
   ]
  }
 ],
 "metadata": {
  "kernelspec": {
   "display_name": "Python 3",
   "language": "python",
   "name": "python3"
  },
  "language_info": {
   "codemirror_mode": {
    "name": "ipython",
    "version": 3
   },
   "file_extension": ".py",
   "mimetype": "text/x-python",
   "name": "python",
   "nbconvert_exporter": "python",
   "pygments_lexer": "ipython3",
   "version": "3.7.6"
  }
 },
 "nbformat": 4,
 "nbformat_minor": 4
}
