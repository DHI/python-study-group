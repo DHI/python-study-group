{
 "cells": [
  {
   "cell_type": "markdown",
   "metadata": {},
   "source": [
    "# REST API"
   ]
  },
  {
   "cell_type": "markdown",
   "metadata": {},
   "source": [
    "## HTTP Verbs GET & POST\n",
    "[![](get_post.png)](https://youtu.be/UObINRj2EGY)"
   ]
  },
  {
   "cell_type": "code",
   "execution_count": null,
   "metadata": {},
   "outputs": [],
   "source": [
    "import numpy as np\n",
    "import pandas as pd\n",
    "import matplotlib.pyplot as plt\n",
    "\n",
    "import requests"
   ]
  },
  {
   "cell_type": "markdown",
   "metadata": {},
   "source": [
    "Interacting with a REST API can be as simple as getting the data from a URL.\n",
    "\n",
    "In this case the data is in MS Excel format."
   ]
  },
  {
   "cell_type": "code",
   "execution_count": null,
   "metadata": {},
   "outputs": [],
   "source": [
    "url = \"https://vattenwebb.smhi.se/station/rest/report/2127\"\n",
    "\n",
    "raw_df = pd.read_excel(url,skiprows=13, names=[\"date\",\"flow\",\"quality\"], na_values=['Saknas'])\n",
    "df = raw_df.copy()\n",
    "df = df.drop('date',axis=1)\n",
    "df.index = pd.to_datetime(raw_df['date'])"
   ]
  },
  {
   "cell_type": "code",
   "execution_count": null,
   "metadata": {},
   "outputs": [],
   "source": [
    "df.flow.plot(figsize=(18,4))"
   ]
  },
  {
   "cell_type": "markdown",
   "metadata": {},
   "source": [
    "# DMI"
   ]
  },
  {
   "cell_type": "markdown",
   "metadata": {},
   "source": [
    "In most cases we supply parameters in the query string and get the result in JSON format."
   ]
  },
  {
   "cell_type": "code",
   "execution_count": null,
   "metadata": {},
   "outputs": [],
   "source": [
    "api_key = \"e11ff26d-8747-4a40-a38b-0eeec13117b9\"\n",
    "\n",
    "station_id = \"9020401\" # Kerteminde\n",
    "\n",
    "# Add all parameters to URL\n",
    "url = f\"https://dmigw.govcloud.dk/v2/oceanObs/collections/observation/items?api-key={api_key}&stationId={station_id}&parameterId=sea_reg\"\n",
    "resp = requests.get(url)\n",
    "resp"
   ]
  },
  {
   "source": [
    "The requests library can handle parameters for us. Below is the same request using a dictionary instead."
   ],
   "cell_type": "markdown",
   "metadata": {}
  },
  {
   "cell_type": "code",
   "execution_count": null,
   "metadata": {},
   "outputs": [],
   "source": [
    "resp =requests.get(\"https://dmigw.govcloud.dk/v2/oceanObs/collections/observation/items\", params={'api-key': api_key})\n",
    "resp"
   ]
  },
  {
   "cell_type": "code",
   "execution_count": null,
   "metadata": {},
   "outputs": [],
   "source": [
    "resp =requests.get(\"https://dmigw.govcloud.dk/v2/oceanObs/collections/observation/items\", params={'api-key': api_key,\n",
    "                                'stationId': station_id,\n",
    "                                'parameterId': 'sea_reg'}\n",
    "                                    )\n",
    "resp"
   ]
  },
  {
   "source": [
    "HTTP Status 200 is Ok\n",
    "\n",
    "We can also check the ok property of the response object."
   ],
   "cell_type": "markdown",
   "metadata": {}
  },
  {
   "cell_type": "code",
   "execution_count": null,
   "metadata": {},
   "outputs": [],
   "source": [
    "resp.ok"
   ]
  },
  {
   "source": [
    "There are many other HTTP status codes, but the ones in the 200 range are successful.\n",
    "\n",
    "You can find some other status codes in the `request.codes` module."
   ],
   "cell_type": "markdown",
   "metadata": {}
  },
  {
   "cell_type": "code",
   "execution_count": null,
   "metadata": {},
   "outputs": [],
   "source": [
    "requests.codes.IM_A_TEAPOT"
   ]
  },
  {
   "cell_type": "code",
   "execution_count": null,
   "metadata": {},
   "outputs": [],
   "source": [
    "resp.content"
   ]
  },
  {
   "cell_type": "code",
   "execution_count": null,
   "metadata": {},
   "outputs": [],
   "source": [
    "# parse response body formatted in JSON\n",
    "data = resp.json()"
   ]
  },
  {
   "cell_type": "code",
   "execution_count": null,
   "metadata": {},
   "outputs": [],
   "source": [
    "# Select relevant fields and convert to Dataframe\n",
    "\n",
    "ts = [{'time':p['properties']['observed'].replace(\"Z\",\"\"),\n",
    "      'value': p['properties']['value']} for p in data['features']]\n",
    "df = pd.DataFrame(ts)\n",
    "df.index = pd.to_datetime(df['time'])\n",
    "df = df.drop(columns=['time'])\n",
    "df = df.sort_index()"
   ]
  },
  {
   "cell_type": "code",
   "execution_count": null,
   "metadata": {},
   "outputs": [],
   "source": [
    "df.plot()"
   ]
  },
  {
   "source": [
    "Standardized formats are easy to use, e.g. GeoJSON"
   ],
   "cell_type": "markdown",
   "metadata": {}
  },
  {
   "cell_type": "code",
   "execution_count": null,
   "metadata": {},
   "outputs": [],
   "source": [
    "url = f\"https://dmigw.govcloud.dk/v2/oceanObs/collections/observation/items\"\n",
    "\n",
    "resp =requests.get(url, params={'api-key': api_key,\n",
    "                                'parameterId': 'sea_reg'}\n",
    "                                    )\n",
    "resp"
   ]
  },
  {
   "cell_type": "code",
   "execution_count": null,
   "metadata": {},
   "outputs": [],
   "source": [
    "import folium\n",
    "\n",
    "m =folium.Map(location=[56,10], zoom_start=7)\n",
    "folium.GeoJson(resp.json()).add_to(m)\n",
    "m\n"
   ]
  },
  {
   "cell_type": "code",
   "execution_count": null,
   "metadata": {},
   "outputs": [],
   "source": []
  }
 ],
 "metadata": {
  "kernelspec": {
   "name": "python385jvsc74a57bd004089dccd669f5475382045dd9eff7870585234f8cdbd51ae6db76ccd1cd85e5",
   "display_name": "Python 3.8.5 64-bit ('base': conda)"
  },
  "language_info": {
   "codemirror_mode": {
    "name": "ipython",
    "version": 3
   },
   "file_extension": ".py",
   "mimetype": "text/x-python",
   "name": "python",
   "nbconvert_exporter": "python",
   "pygments_lexer": "ipython3",
   "version": "3.8.5"
  }
 },
 "nbformat": 4,
 "nbformat_minor": 2
}